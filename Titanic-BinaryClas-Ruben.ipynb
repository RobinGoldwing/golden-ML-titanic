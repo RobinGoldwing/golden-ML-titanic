{
 "cells": [
  {
   "cell_type": "markdown",
   "metadata": {},
   "source": [
    "## Alumno : Rubén Álvarez Mosquera"
   ]
  },
  {
   "attachments": {},
   "cell_type": "markdown",
   "metadata": {},
   "source": [
    "---\n",
    "# **Clasificación Binaria de la superviviencia en el Titanic**\n",
    "\n",
    "*Prefacio : Nuestra tarea consiste en predecir la supewrvivencia o no de un pasajero en el Titanic*\n",
    "\n",
    "---"
   ]
  },
  {
   "cell_type": "markdown",
   "metadata": {},
   "source": [
    "## Declaración de módulos\n",
    "---"
   ]
  },
  {
   "cell_type": "markdown",
   "metadata": {},
   "source": [
    "En primer lugar, vamos a importar algunos módulos comunes. \n",
    "\n",
    "También comprobamos que Python 3.5 o posterior está instalado (aunque Python 2.x puede funcionar, está obsoleto por lo que es **altamente** recomendable utilizar Python 3 en su lugar), así como Scikit-Learn ≥0.20.\n",
    "\n",
    "También agregaremos una librería (warnings) para evitar los molestos mensajes de advertencia(Futurewarnings)."
   ]
  },
  {
   "cell_type": "code",
   "execution_count": 2,
   "metadata": {},
   "outputs": [],
   "source": [
    "# Se requiere Python ≥ 3.5\n",
    "import sys\n",
    "assert sys.version_info >= (3, 5)\n",
    "\n",
    "# Se requiere Scikit-Learn ≥ 0.20\n",
    "import sklearn\n",
    "assert sklearn.__version__ >= \"0.20\"\n",
    "\n",
    "# Otros imports\n",
    "import numpy as np\n",
    "import os\n",
    "\n",
    "# Importamos la librería Pandas para administar Dataframes\n",
    "import pandas as pd\n",
    "\n",
    "# la línea que sigue, sólo en Colab ...\n",
    "# %matplotlib inline\n",
    "# Importamos librería MatPlotLib\n",
    "import matplotlib as mpl\n",
    "import matplotlib.pyplot as plt\n",
    "\n",
    "\n",
    "# Importamos librería \"Seaborn\" para la visualización que es como un MatPlotLib con \"esteriodes\"\n",
    "import seaborn as sns \n",
    "\n",
    "\n",
    "# Importa la librería que va a posibilitar evitar que salgan los molestos mensajes de advertencia\n",
    "import warnings"
   ]
  },
  {
   "cell_type": "markdown",
   "metadata": {},
   "source": [
    "Configuración de las Advertencias \"Futurewarning\""
   ]
  },
  {
   "cell_type": "code",
   "execution_count": 3,
   "metadata": {},
   "outputs": [],
   "source": [
    "# configuración para eviatar que aparezcan las advertencias \"FutureWarnings\"\n",
    "warnings.filterwarnings(\"ignore\", category=FutureWarning)"
   ]
  },
  {
   "cell_type": "markdown",
   "metadata": {},
   "source": [
    "Configuración de las visualizaciones de \"Seaborn\""
   ]
  },
  {
   "cell_type": "code",
   "execution_count": 4,
   "metadata": {},
   "outputs": [],
   "source": [
    "# tamaño del texto en las etiquetas por defecto para Matplotlib\n",
    "mpl.rc('axes',  labelsize=15)\n",
    "mpl.rc('xtick', labelsize=15)\n",
    "mpl.rc('ytick', labelsize=15)\n",
    "\n",
    "\n",
    "# Configuramos visualizaciones con Seaborn\n",
    "plt.rcParams['figure.figsize'] = [8,5]\n",
    "plt.rcParams['font.size'] =14\n",
    "plt.rcParams['font.weight']= 'bold'\n",
    "plt.style.use('seaborn-whitegrid')"
   ]
  },
  {
   "cell_type": "markdown",
   "metadata": {},
   "source": [
    "## Importacion de Datos\n",
    "---"
   ]
  },
  {
   "cell_type": "markdown",
   "metadata": {},
   "source": [
    "Definimos la función que importará los datos de un archivo CSV a un Dataframe de Pandas"
   ]
  },
  {
   "cell_type": "code",
   "execution_count": 25,
   "metadata": {},
   "outputs": [],
   "source": [
    "INSURANCE_PATH = os.path.join(\"dataset\");\n",
    "\n",
    "def load_insurance_data(insurance_path):\n",
    "    csv_path = os.path.join(insurance_path, \"tested.csv\")\n",
    "    return pd.read_csv(csv_path)"
   ]
  },
  {
   "cell_type": "markdown",
   "metadata": {},
   "source": [
    "Llamamos a la función de importación de datos y los importamos a la variable \"insurance\""
   ]
  },
  {
   "cell_type": "code",
   "execution_count": 26,
   "metadata": {},
   "outputs": [],
   "source": [
    "titanic = load_insurance_data(INSURANCE_PATH)"
   ]
  },
  {
   "cell_type": "markdown",
   "metadata": {},
   "source": [
    "Comprobamos el estado de los Datos, mediante una revisión de las primeras filas"
   ]
  },
  {
   "cell_type": "code",
   "execution_count": 27,
   "metadata": {},
   "outputs": [
    {
     "data": {
      "text/html": [
       "<div>\n",
       "<style scoped>\n",
       "    .dataframe tbody tr th:only-of-type {\n",
       "        vertical-align: middle;\n",
       "    }\n",
       "\n",
       "    .dataframe tbody tr th {\n",
       "        vertical-align: top;\n",
       "    }\n",
       "\n",
       "    .dataframe thead th {\n",
       "        text-align: right;\n",
       "    }\n",
       "</style>\n",
       "<table border=\"1\" class=\"dataframe\">\n",
       "  <thead>\n",
       "    <tr style=\"text-align: right;\">\n",
       "      <th></th>\n",
       "      <th>PassengerId</th>\n",
       "      <th>Survived</th>\n",
       "      <th>Pclass</th>\n",
       "      <th>Name</th>\n",
       "      <th>Sex</th>\n",
       "      <th>Age</th>\n",
       "      <th>SibSp</th>\n",
       "      <th>Parch</th>\n",
       "      <th>Ticket</th>\n",
       "      <th>Fare</th>\n",
       "      <th>Cabin</th>\n",
       "      <th>Embarked</th>\n",
       "    </tr>\n",
       "  </thead>\n",
       "  <tbody>\n",
       "    <tr>\n",
       "      <th>0</th>\n",
       "      <td>892</td>\n",
       "      <td>0</td>\n",
       "      <td>3</td>\n",
       "      <td>Kelly, Mr. James</td>\n",
       "      <td>male</td>\n",
       "      <td>34.5</td>\n",
       "      <td>0</td>\n",
       "      <td>0</td>\n",
       "      <td>330911</td>\n",
       "      <td>7.8292</td>\n",
       "      <td>NaN</td>\n",
       "      <td>Q</td>\n",
       "    </tr>\n",
       "    <tr>\n",
       "      <th>1</th>\n",
       "      <td>893</td>\n",
       "      <td>1</td>\n",
       "      <td>3</td>\n",
       "      <td>Wilkes, Mrs. James (Ellen Needs)</td>\n",
       "      <td>female</td>\n",
       "      <td>47.0</td>\n",
       "      <td>1</td>\n",
       "      <td>0</td>\n",
       "      <td>363272</td>\n",
       "      <td>7.0000</td>\n",
       "      <td>NaN</td>\n",
       "      <td>S</td>\n",
       "    </tr>\n",
       "    <tr>\n",
       "      <th>2</th>\n",
       "      <td>894</td>\n",
       "      <td>0</td>\n",
       "      <td>2</td>\n",
       "      <td>Myles, Mr. Thomas Francis</td>\n",
       "      <td>male</td>\n",
       "      <td>62.0</td>\n",
       "      <td>0</td>\n",
       "      <td>0</td>\n",
       "      <td>240276</td>\n",
       "      <td>9.6875</td>\n",
       "      <td>NaN</td>\n",
       "      <td>Q</td>\n",
       "    </tr>\n",
       "    <tr>\n",
       "      <th>3</th>\n",
       "      <td>895</td>\n",
       "      <td>0</td>\n",
       "      <td>3</td>\n",
       "      <td>Wirz, Mr. Albert</td>\n",
       "      <td>male</td>\n",
       "      <td>27.0</td>\n",
       "      <td>0</td>\n",
       "      <td>0</td>\n",
       "      <td>315154</td>\n",
       "      <td>8.6625</td>\n",
       "      <td>NaN</td>\n",
       "      <td>S</td>\n",
       "    </tr>\n",
       "    <tr>\n",
       "      <th>4</th>\n",
       "      <td>896</td>\n",
       "      <td>1</td>\n",
       "      <td>3</td>\n",
       "      <td>Hirvonen, Mrs. Alexander (Helga E Lindqvist)</td>\n",
       "      <td>female</td>\n",
       "      <td>22.0</td>\n",
       "      <td>1</td>\n",
       "      <td>1</td>\n",
       "      <td>3101298</td>\n",
       "      <td>12.2875</td>\n",
       "      <td>NaN</td>\n",
       "      <td>S</td>\n",
       "    </tr>\n",
       "  </tbody>\n",
       "</table>\n",
       "</div>"
      ],
      "text/plain": [
       "   PassengerId  Survived  Pclass  \\\n",
       "0          892         0       3   \n",
       "1          893         1       3   \n",
       "2          894         0       2   \n",
       "3          895         0       3   \n",
       "4          896         1       3   \n",
       "\n",
       "                                           Name     Sex   Age  SibSp  Parch  \\\n",
       "0                              Kelly, Mr. James    male  34.5      0      0   \n",
       "1              Wilkes, Mrs. James (Ellen Needs)  female  47.0      1      0   \n",
       "2                     Myles, Mr. Thomas Francis    male  62.0      0      0   \n",
       "3                              Wirz, Mr. Albert    male  27.0      0      0   \n",
       "4  Hirvonen, Mrs. Alexander (Helga E Lindqvist)  female  22.0      1      1   \n",
       "\n",
       "    Ticket     Fare Cabin Embarked  \n",
       "0   330911   7.8292   NaN        Q  \n",
       "1   363272   7.0000   NaN        S  \n",
       "2   240276   9.6875   NaN        Q  \n",
       "3   315154   8.6625   NaN        S  \n",
       "4  3101298  12.2875   NaN        S  "
      ]
     },
     "execution_count": 27,
     "metadata": {},
     "output_type": "execute_result"
    }
   ],
   "source": [
    "titanic.head()"
   ]
  },
  {
   "cell_type": "code",
   "execution_count": 28,
   "metadata": {},
   "outputs": [],
   "source": [
    "titanic_backup = titanic.copy()"
   ]
  },
  {
   "attachments": {},
   "cell_type": "markdown",
   "metadata": {},
   "source": [
    "## Revisamos el estado de los datos\n",
    "---"
   ]
  },
  {
   "attachments": {},
   "cell_type": "markdown",
   "metadata": {},
   "source": [
    "Revisamos las columnas en general"
   ]
  },
  {
   "cell_type": "code",
   "execution_count": 29,
   "metadata": {},
   "outputs": [
    {
     "name": "stdout",
     "output_type": "stream",
     "text": [
      "<class 'pandas.core.frame.DataFrame'>\n",
      "RangeIndex: 418 entries, 0 to 417\n",
      "Data columns (total 12 columns):\n",
      " #   Column       Non-Null Count  Dtype  \n",
      "---  ------       --------------  -----  \n",
      " 0   PassengerId  418 non-null    int64  \n",
      " 1   Survived     418 non-null    int64  \n",
      " 2   Pclass       418 non-null    int64  \n",
      " 3   Name         418 non-null    object \n",
      " 4   Sex          418 non-null    object \n",
      " 5   Age          332 non-null    float64\n",
      " 6   SibSp        418 non-null    int64  \n",
      " 7   Parch        418 non-null    int64  \n",
      " 8   Ticket       418 non-null    object \n",
      " 9   Fare         417 non-null    float64\n",
      " 10  Cabin        91 non-null     object \n",
      " 11  Embarked     418 non-null    object \n",
      "dtypes: float64(2), int64(5), object(5)\n",
      "memory usage: 39.3+ KB\n"
     ]
    }
   ],
   "source": [
    "titanic.info()"
   ]
  },
  {
   "cell_type": "markdown",
   "metadata": {},
   "source": [
    "Comprobación del número de NaN por categoría"
   ]
  },
  {
   "cell_type": "code",
   "execution_count": 35,
   "metadata": {},
   "outputs": [
    {
     "data": {
      "text/plain": [
       "Survived      0\n",
       "Pclass        0\n",
       "Name          0\n",
       "Sex           0\n",
       "Age          86\n",
       "SibSp         0\n",
       "Parch         0\n",
       "Ticket        0\n",
       "Fare          1\n",
       "Cabin       327\n",
       "Embarked      0\n",
       "dtype: int64"
      ]
     },
     "execution_count": 35,
     "metadata": {},
     "output_type": "execute_result"
    }
   ],
   "source": [
    "# De forma global\n",
    "titanic.isna().sum()"
   ]
  },
  {
   "attachments": {},
   "cell_type": "markdown",
   "metadata": {},
   "source": [
    "### \"PassengerId\" ------------------------------------------\n",
    "*Número de identificación del pasajero*"
   ]
  },
  {
   "cell_type": "code",
   "execution_count": 30,
   "metadata": {},
   "outputs": [
    {
     "data": {
      "text/plain": [
       "count     418.000000\n",
       "mean     1100.500000\n",
       "std       120.810458\n",
       "min       892.000000\n",
       "25%       996.250000\n",
       "50%      1100.500000\n",
       "75%      1204.750000\n",
       "max      1309.000000\n",
       "Name: PassengerId, dtype: float64"
      ]
     },
     "execution_count": 30,
     "metadata": {},
     "output_type": "execute_result"
    }
   ],
   "source": [
    "titanic['PassengerId'].describe()"
   ]
  },
  {
   "cell_type": "code",
   "execution_count": 31,
   "metadata": {},
   "outputs": [
    {
     "data": {
      "text/plain": [
       "892     1\n",
       "1205    1\n",
       "1177    1\n",
       "1176    1\n",
       "1175    1\n",
       "       ..\n",
       "1028    1\n",
       "1027    1\n",
       "1026    1\n",
       "1025    1\n",
       "1309    1\n",
       "Name: PassengerId, Length: 418, dtype: int64"
      ]
     },
     "execution_count": 31,
     "metadata": {},
     "output_type": "execute_result"
    }
   ],
   "source": [
    "titanic['PassengerId'].value_counts()"
   ]
  },
  {
   "attachments": {},
   "cell_type": "markdown",
   "metadata": {},
   "source": [
    "- Es una variable categórica\n",
    "- No con tiene NaN\n",
    "- Debemos prescindir de ella para los cálculos de la predicción porque no aporta datos revelantes"
   ]
  },
  {
   "cell_type": "code",
   "execution_count": 32,
   "metadata": {},
   "outputs": [],
   "source": [
    "# Eliminación de la columna \"PassegerID\"\n",
    "titanic.drop([\"PassengerId\"],axis=1, inplace=True)"
   ]
  },
  {
   "attachments": {},
   "cell_type": "markdown",
   "metadata": {},
   "source": [
    "### \"Survived\" ------------------------------------------\n",
    "*Si el pasajero sobrevivió al naufragio*"
   ]
  },
  {
   "cell_type": "code",
   "execution_count": 22,
   "metadata": {},
   "outputs": [
    {
     "data": {
      "text/plain": [
       "count    418.000000\n",
       "mean       0.363636\n",
       "std        0.481622\n",
       "min        0.000000\n",
       "25%        0.000000\n",
       "50%        0.000000\n",
       "75%        1.000000\n",
       "max        1.000000\n",
       "Name: Survived, dtype: float64"
      ]
     },
     "execution_count": 22,
     "metadata": {},
     "output_type": "execute_result"
    }
   ],
   "source": [
    "titanic['Survived'].describe()"
   ]
  },
  {
   "cell_type": "code",
   "execution_count": 33,
   "metadata": {},
   "outputs": [
    {
     "data": {
      "text/plain": [
       "0    266\n",
       "1    152\n",
       "Name: Survived, dtype: int64"
      ]
     },
     "execution_count": 33,
     "metadata": {},
     "output_type": "execute_result"
    }
   ],
   "source": [
    "titanic['Survived'].value_counts()"
   ]
  },
  {
   "attachments": {},
   "cell_type": "markdown",
   "metadata": {},
   "source": [
    "\n",
    "- Es una variable binaria 0/1\n",
    "- No contiene NaN\n",
    "- Es la variable que buscaremos predecir con este dataset.\n",
    "- No tenemos que realizar ninguan actuación sobre ella."
   ]
  },
  {
   "attachments": {},
   "cell_type": "markdown",
   "metadata": {},
   "source": [
    "### \"Pclass\" ------------------------------------------\n",
    "*Clase a la que pertenecía el pasajero*\n"
   ]
  },
  {
   "cell_type": "code",
   "execution_count": 23,
   "metadata": {},
   "outputs": [
    {
     "data": {
      "text/plain": [
       "count    418.000000\n",
       "mean       2.265550\n",
       "std        0.841838\n",
       "min        1.000000\n",
       "25%        1.000000\n",
       "50%        3.000000\n",
       "75%        3.000000\n",
       "max        3.000000\n",
       "Name: Pclass, dtype: float64"
      ]
     },
     "execution_count": 23,
     "metadata": {},
     "output_type": "execute_result"
    }
   ],
   "source": [
    "titanic['Pclass'].describe()"
   ]
  },
  {
   "cell_type": "code",
   "execution_count": 34,
   "metadata": {},
   "outputs": [
    {
     "data": {
      "text/plain": [
       "3    218\n",
       "1    107\n",
       "2     93\n",
       "Name: Pclass, dtype: int64"
      ]
     },
     "execution_count": 34,
     "metadata": {},
     "output_type": "execute_result"
    }
   ],
   "source": [
    "titanic['Pclass'].value_counts()"
   ]
  },
  {
   "attachments": {},
   "cell_type": "markdown",
   "metadata": {},
   "source": [
    "- Es una variable categórica con 3 valores\n",
    "- No contiene NaN\n",
    "- Deberemos normalizar las columnas categorias en tres columnas por cada una de las 3 clases\n",
    "- Eso lo haremos más adelante con la herramienta OneHotEncoder"
   ]
  },
  {
   "attachments": {},
   "cell_type": "markdown",
   "metadata": {},
   "source": [
    "### \"Name\" ------------------------------------------\n",
    "*Nombre y Apellidos*\n"
   ]
  },
  {
   "cell_type": "code",
   "execution_count": 36,
   "metadata": {},
   "outputs": [
    {
     "data": {
      "text/plain": [
       "count                  418\n",
       "unique                 418\n",
       "top       Kelly, Mr. James\n",
       "freq                     1\n",
       "Name: Name, dtype: object"
      ]
     },
     "execution_count": 36,
     "metadata": {},
     "output_type": "execute_result"
    }
   ],
   "source": [
    "titanic['Name'].describe()"
   ]
  },
  {
   "attachments": {},
   "cell_type": "markdown",
   "metadata": {},
   "source": [
    "- Es una variable categórica con valores únicos \n",
    "- No contiene NaN\n",
    "- Deberemos eliminar la columna del dataset ya que no aporta datos al modelo de predicción"
   ]
  },
  {
   "cell_type": "code",
   "execution_count": 37,
   "metadata": {},
   "outputs": [],
   "source": [
    "# Eliminación de la columna \"Name\"\n",
    "titanic.drop([\"Name\"],axis=1, inplace=True)"
   ]
  },
  {
   "attachments": {},
   "cell_type": "markdown",
   "metadata": {},
   "source": [
    "### \"Sex\" ------------------------------------------\n",
    "*Sexo*\n"
   ]
  },
  {
   "cell_type": "code",
   "execution_count": 38,
   "metadata": {},
   "outputs": [
    {
     "data": {
      "text/plain": [
       "count      418\n",
       "unique       2\n",
       "top       male\n",
       "freq       266\n",
       "Name: Sex, dtype: object"
      ]
     },
     "execution_count": 38,
     "metadata": {},
     "output_type": "execute_result"
    }
   ],
   "source": [
    "titanic['Sex'].describe()"
   ]
  },
  {
   "cell_type": "code",
   "execution_count": 39,
   "metadata": {},
   "outputs": [
    {
     "data": {
      "text/plain": [
       "male      266\n",
       "female    152\n",
       "Name: Sex, dtype: int64"
      ]
     },
     "execution_count": 39,
     "metadata": {},
     "output_type": "execute_result"
    }
   ],
   "source": [
    "titanic['Sex'].value_counts()"
   ]
  },
  {
   "attachments": {},
   "cell_type": "markdown",
   "metadata": {},
   "source": [
    "- Es una variable categórica con 2 valores únicos Male/Female\n",
    "- No contiene NaN\n",
    "- Deberemos normalizar las columnas categorias en dos columnas por cada una de las clases\n",
    "- Eso lo haremos más adelante con la herramienta OneHotEncoder"
   ]
  },
  {
   "attachments": {},
   "cell_type": "markdown",
   "metadata": {},
   "source": [
    "### \"Age\" ------------------------------------------\n",
    "*Edad*\n"
   ]
  },
  {
   "cell_type": "code",
   "execution_count": 40,
   "metadata": {},
   "outputs": [
    {
     "data": {
      "text/plain": [
       "count    332.000000\n",
       "mean      30.272590\n",
       "std       14.181209\n",
       "min        0.170000\n",
       "25%       21.000000\n",
       "50%       27.000000\n",
       "75%       39.000000\n",
       "max       76.000000\n",
       "Name: Age, dtype: float64"
      ]
     },
     "execution_count": 40,
     "metadata": {},
     "output_type": "execute_result"
    }
   ],
   "source": [
    "titanic['Age'].describe()"
   ]
  },
  {
   "cell_type": "code",
   "execution_count": 43,
   "metadata": {},
   "outputs": [
    {
     "data": {
      "text/plain": [
       "86"
      ]
     },
     "execution_count": 43,
     "metadata": {},
     "output_type": "execute_result"
    }
   ],
   "source": [
    "titanic['Age'].isna().sum()"
   ]
  },
  {
   "attachments": {},
   "cell_type": "markdown",
   "metadata": {},
   "source": [
    "- Es una variable contínua\n",
    "- Contiene 86 NaN\n",
    "- Deberemos rellenar los NaN con la media de las edades"
   ]
  },
  {
   "cell_type": "code",
   "execution_count": 44,
   "metadata": {},
   "outputs": [
    {
     "name": "stdout",
     "output_type": "stream",
     "text": [
      "La media redondeada a años es:  30.0\n",
      "Lista de los índices con NaN :  [10, 22, 29, 33, 36, 39, 41, 47, 54, 58, 65, 76, 83, 84, 85, 88, 91, 93, 102, 107, 108, 111, 116, 121, 124, 127, 132, 133, 146, 148, 151, 160, 163, 168, 170, 173, 183, 188, 191, 199, 200, 205, 211, 216, 219, 225, 227, 233, 243, 244, 249, 255, 256, 265, 266, 267, 268, 271, 273, 274, 282, 286, 288, 289, 290, 292, 297, 301, 304, 312, 332, 339, 342, 344, 357, 358, 365, 366, 380, 382, 384, 408, 410, 413, 416, 417]\n",
      "Después de los cambios, el número de los NaN en la columna 'age' es de :  0\n"
     ]
    }
   ],
   "source": [
    "# Hallamos la media redondeada a años\n",
    "media_age = round(titanic[\"Age\"].mean(),0)\n",
    "print(\"La media redondeada a años es: \", round(titanic[\"Age\"].mean(),0))\n",
    "# Localizamos el índice del NaN\n",
    "lista_NaN_age = list(titanic.loc[pd.isna(titanic[\"Age\"]), :].index)\n",
    "print(\"Lista de los índices con NaN : \", list(titanic.loc[pd.isna(titanic[\"Age\"]), :].index))\n",
    "# Cambiamos el valor de los índice para la columna añoas por la media\n",
    "for x in lista_NaN_age:\n",
    "    titanic.loc[x,'Age']=media_age\n",
    "\n",
    "#Revisamos resultados \n",
    "print(\"Después de los cambios, el número de los NaN en la columna 'age' es de : \", titanic[\"Age\"].isna().sum())"
   ]
  },
  {
   "attachments": {},
   "cell_type": "markdown",
   "metadata": {},
   "source": [
    "### \"SibSp\" ------------------------------------------\n",
    "*Número de herman@s en el barco*\n"
   ]
  },
  {
   "cell_type": "code",
   "execution_count": 45,
   "metadata": {},
   "outputs": [
    {
     "data": {
      "text/plain": [
       "count    418.000000\n",
       "mean       0.447368\n",
       "std        0.896760\n",
       "min        0.000000\n",
       "25%        0.000000\n",
       "50%        0.000000\n",
       "75%        1.000000\n",
       "max        8.000000\n",
       "Name: SibSp, dtype: float64"
      ]
     },
     "execution_count": 45,
     "metadata": {},
     "output_type": "execute_result"
    }
   ],
   "source": [
    "titanic['SibSp'].describe()"
   ]
  },
  {
   "cell_type": "code",
   "execution_count": 46,
   "metadata": {},
   "outputs": [
    {
     "data": {
      "text/plain": [
       "0    283\n",
       "1    110\n",
       "2     14\n",
       "3      4\n",
       "4      4\n",
       "8      2\n",
       "5      1\n",
       "Name: SibSp, dtype: int64"
      ]
     },
     "execution_count": 46,
     "metadata": {},
     "output_type": "execute_result"
    }
   ],
   "source": [
    "titanic['SibSp'].value_counts()"
   ]
  },
  {
   "cell_type": "code",
   "execution_count": 47,
   "metadata": {},
   "outputs": [
    {
     "data": {
      "text/plain": [
       "0"
      ]
     },
     "execution_count": 47,
     "metadata": {},
     "output_type": "execute_result"
    }
   ],
   "source": [
    "titanic['SibSp'].isna().sum()"
   ]
  },
  {
   "attachments": {},
   "cell_type": "markdown",
   "metadata": {},
   "source": [
    "- Es una variable discreta con 6 valores, representando el número de hermanos\n",
    "- No contiene NaN\n",
    "- No deberemos realizar ninguna operación con ella"
   ]
  },
  {
   "attachments": {},
   "cell_type": "markdown",
   "metadata": {},
   "source": [
    "### \"Parch\" ------------------------------------------\n",
    "*Número de padres e hijos en el barco*\n"
   ]
  },
  {
   "cell_type": "code",
   "execution_count": 48,
   "metadata": {},
   "outputs": [
    {
     "data": {
      "text/plain": [
       "count    418.000000\n",
       "mean       0.392344\n",
       "std        0.981429\n",
       "min        0.000000\n",
       "25%        0.000000\n",
       "50%        0.000000\n",
       "75%        0.000000\n",
       "max        9.000000\n",
       "Name: Parch, dtype: float64"
      ]
     },
     "execution_count": 48,
     "metadata": {},
     "output_type": "execute_result"
    }
   ],
   "source": [
    "titanic['Parch'].describe()"
   ]
  },
  {
   "cell_type": "code",
   "execution_count": 49,
   "metadata": {},
   "outputs": [
    {
     "data": {
      "text/plain": [
       "0    324\n",
       "1     52\n",
       "2     33\n",
       "3      3\n",
       "4      2\n",
       "9      2\n",
       "6      1\n",
       "5      1\n",
       "Name: Parch, dtype: int64"
      ]
     },
     "execution_count": 49,
     "metadata": {},
     "output_type": "execute_result"
    }
   ],
   "source": [
    "titanic['Parch'].value_counts()"
   ]
  },
  {
   "cell_type": "code",
   "execution_count": 50,
   "metadata": {},
   "outputs": [
    {
     "data": {
      "text/plain": [
       "0"
      ]
     },
     "execution_count": 50,
     "metadata": {},
     "output_type": "execute_result"
    }
   ],
   "source": [
    "titanic['Parch'].isna().sum()"
   ]
  },
  {
   "attachments": {},
   "cell_type": "markdown",
   "metadata": {},
   "source": [
    "- Es una variable discreta con 8 valores, representando el número de padres e hijos\n",
    "- No contiene NaN\n",
    "- No deberemos realizar ninguna operación con ella"
   ]
  },
  {
   "attachments": {},
   "cell_type": "markdown",
   "metadata": {},
   "source": [
    "### \"Ticket\" ------------------------------------------\n",
    "*Número de tícket del pasajero*\n"
   ]
  },
  {
   "attachments": {},
   "cell_type": "markdown",
   "metadata": {},
   "source": [
    "- Es una variable categórica con valores únicos \n",
    "- No contiene NaN\n",
    "- Deberemos eliminar la columna del dataset ya que no aporta datos al modelo de predicción"
   ]
  },
  {
   "cell_type": "code",
   "execution_count": 51,
   "metadata": {},
   "outputs": [],
   "source": [
    "# Eliminación de la columna \"Name\"\n",
    "titanic.drop([\"Ticket\"],axis=1, inplace=True)"
   ]
  },
  {
   "attachments": {},
   "cell_type": "markdown",
   "metadata": {},
   "source": [
    "### \"Fare\" ------------------------------------------\n",
    "*Precio pagado por el billete*\n"
   ]
  },
  {
   "cell_type": "code",
   "execution_count": 52,
   "metadata": {},
   "outputs": [
    {
     "data": {
      "text/plain": [
       "count    417.000000\n",
       "mean      35.627188\n",
       "std       55.907576\n",
       "min        0.000000\n",
       "25%        7.895800\n",
       "50%       14.454200\n",
       "75%       31.500000\n",
       "max      512.329200\n",
       "Name: Fare, dtype: float64"
      ]
     },
     "execution_count": 52,
     "metadata": {},
     "output_type": "execute_result"
    }
   ],
   "source": [
    "titanic['Fare'].describe()"
   ]
  },
  {
   "cell_type": "code",
   "execution_count": 53,
   "metadata": {},
   "outputs": [
    {
     "data": {
      "text/plain": [
       "1"
      ]
     },
     "execution_count": 53,
     "metadata": {},
     "output_type": "execute_result"
    }
   ],
   "source": [
    "titanic['Fare'].isna().sum()"
   ]
  },
  {
   "attachments": {},
   "cell_type": "markdown",
   "metadata": {},
   "source": [
    "- Es una variable continua\n",
    "- Contiene 1 NaN\n",
    "- Deberemos rellenar el NaN con el valor de media"
   ]
  },
  {
   "cell_type": "code",
   "execution_count": 54,
   "metadata": {},
   "outputs": [
    {
     "name": "stdout",
     "output_type": "stream",
     "text": [
      "La media de la tarifa es:  35.627188\n",
      "El índice con NaN es :  [152]\n",
      "Después de los cambios, el número de los NaN en la columna 'Fare'/tarifa es de :  0\n"
     ]
    }
   ],
   "source": [
    "# Hallamos la media redondeada de la tarifa\n",
    "media_fare = round(titanic[\"Fare\"].mean(),6)\n",
    "print(\"La media de la tarifa es: \", round(titanic[\"Fare\"].mean(),6))\n",
    "# Localizamos el índice del NaN\n",
    "lista_NaN_age = list(titanic.loc[pd.isna(titanic[\"Fare\"]), :].index)\n",
    "print(\"El índice con NaN es : \", list(titanic.loc[pd.isna(titanic[\"Fare\"]), :].index))\n",
    "# Cambiamos el valor NaN, para la columna \"Fare\" por la media\n",
    "for x in lista_NaN_age:\n",
    "    titanic.loc[x,'Fare']=media_fare\n",
    "\n",
    "#Revisamos resultados \n",
    "print(\"Después de los cambios, el número de los NaN en la columna 'Fare'/tarifa es de : \", titanic[\"Fare\"].isna().sum())"
   ]
  },
  {
   "attachments": {},
   "cell_type": "markdown",
   "metadata": {},
   "source": [
    "Podemos ver valores mínimos con \"0.000000\""
   ]
  },
  {
   "cell_type": "code",
   "execution_count": 193,
   "metadata": {},
   "outputs": [
    {
     "data": {
      "text/plain": [
       "2"
      ]
     },
     "execution_count": 193,
     "metadata": {},
     "output_type": "execute_result"
    }
   ],
   "source": [
    "titanic[\"Fare\"].value_counts()[0.000000]"
   ]
  },
  {
   "cell_type": "code",
   "execution_count": 194,
   "metadata": {},
   "outputs": [
    {
     "name": "stdout",
     "output_type": "stream",
     "text": [
      "La media de la tarifa es:  35.627188\n",
      "los índices de los valores '0.000000' de la comlumna 'Fare' son :  [266, 372]\n"
     ]
    }
   ],
   "source": [
    "# Hallamos la media redondeada de la tarifa\n",
    "media_fare = round(titanic[\"Fare\"].mean(),6)\n",
    "print(\"La media de la tarifa es: \", round(titanic[\"Fare\"].mean(),6))\n",
    "# Localizamos el índice del valor\"0.000.000\"\n",
    "lista_zero = titanic.index[titanic[\"Fare\"] == 0.000000].tolist()\n",
    "print(\"los índices de los valores '0.000000' de la comlumna 'Fare' son : \", lista_zero)\n",
    "# Cambiamos el valor \"0.000000\", para la columna \"Fare\" por la media\n",
    "for x in lista_zero:\n",
    "    titanic.loc[x,'Fare']=media_fare"
   ]
  },
  {
   "attachments": {},
   "cell_type": "markdown",
   "metadata": {},
   "source": [
    "### \"Cabin\" ------------------------------------------\n",
    "*Identificador de camarote del pasajero*\n"
   ]
  },
  {
   "cell_type": "code",
   "execution_count": 55,
   "metadata": {},
   "outputs": [
    {
     "data": {
      "text/plain": [
       "418"
      ]
     },
     "execution_count": 55,
     "metadata": {},
     "output_type": "execute_result"
    }
   ],
   "source": [
    "# número total de valores en la columna \"Cabin\"\n",
    "len(titanic[\"Cabin\"])"
   ]
  },
  {
   "cell_type": "code",
   "execution_count": 56,
   "metadata": {},
   "outputs": [
    {
     "data": {
      "text/plain": [
       "count                  91\n",
       "unique                 76\n",
       "top       B57 B59 B63 B66\n",
       "freq                    3\n",
       "Name: Cabin, dtype: object"
      ]
     },
     "execution_count": 56,
     "metadata": {},
     "output_type": "execute_result"
    }
   ],
   "source": [
    "# Distribución de los números\n",
    "titanic[\"Cabin\"].describe()"
   ]
  },
  {
   "cell_type": "code",
   "execution_count": 57,
   "metadata": {},
   "outputs": [
    {
     "data": {
      "text/plain": [
       "327"
      ]
     },
     "execution_count": 57,
     "metadata": {},
     "output_type": "execute_result"
    }
   ],
   "source": [
    "# Cantidad de NaN en la columna \"Cabin\"\n",
    "titanic[\"Cabin\"].isna().sum()"
   ]
  },
  {
   "cell_type": "code",
   "execution_count": 58,
   "metadata": {},
   "outputs": [
    {
     "data": {
      "text/plain": [
       "B57 B59 B63 B66    3\n",
       "B45                2\n",
       "C89                2\n",
       "C55 C57            2\n",
       "A34                2\n",
       "                  ..\n",
       "E52                1\n",
       "D30                1\n",
       "E31                1\n",
       "C62 C64            1\n",
       "C105               1\n",
       "Name: Cabin, Length: 76, dtype: int64"
      ]
     },
     "execution_count": 58,
     "metadata": {},
     "output_type": "execute_result"
    }
   ],
   "source": [
    "# Detalle de los valores únicos de la columna \"Cabin\"\n",
    "titanic[\"Cabin\"].value_counts()"
   ]
  },
  {
   "attachments": {},
   "cell_type": "markdown",
   "metadata": {},
   "source": [
    "- Es una variable categórica\n",
    "- Contiene 327 NaN\n",
    "- Deberemos normalizar las columnas categorias en dos columnas por cada una de las clases\n",
    "- Eso lo haremos más adelante con la herramienta OneHotEncoder"
   ]
  },
  {
   "attachments": {},
   "cell_type": "markdown",
   "metadata": {},
   "source": [
    "Podemos observar que :\n",
    "- el Total de valores = 418\n",
    "- el total de NaN     = 327\n",
    "- el total no-NaN     =  91\n",
    "\n",
    "En este caso lo vamos a dividir entre cubiertas y Desconocido\n",
    "- En el caso de las cubiertas designaremos las Letras : \"A\",\"B\",\"C\", etc...\n",
    "- En el caso del Desconocido pondremos la letra \"U\" de Unknown"
   ]
  },
  {
   "cell_type": "code",
   "execution_count": 59,
   "metadata": {},
   "outputs": [
    {
     "name": "stdout",
     "output_type": "stream",
     "text": [
      "Después de los cambios, el número de los NaN en la columna 'Cabin'es de :  0\n"
     ]
    }
   ],
   "source": [
    "# Localizamos el índice del NaN\n",
    "lista_NaN_age = list(titanic.loc[pd.isna(titanic[\"Cabin\"]), :].index)\n",
    "# Cambiamos el valor NaN, y ás si los hubiera para la columna \"Cabin\" por la letra \"U\"\n",
    "for x in lista_NaN_age:\n",
    "    titanic.loc[x,'Cabin']=\"U\"\n",
    "# Cambiamos el valor de la columna \"Cabin\" por el primer caracter \n",
    "for x in range(len(titanic[\"Cabin\"])):\n",
    "    titanic.loc[x,\"Cabin\"]= titanic.loc[x,\"Cabin\"][0]\n",
    "\n",
    "#Revisamos resultados \n",
    "print(\"Después de los cambios, el número de los NaN en la columna 'Cabin'es de : \", titanic[\"Fare\"].isna().sum())"
   ]
  },
  {
   "cell_type": "code",
   "execution_count": 60,
   "metadata": {},
   "outputs": [
    {
     "data": {
      "text/plain": [
       "U    327\n",
       "C     35\n",
       "B     18\n",
       "D     13\n",
       "E      9\n",
       "F      8\n",
       "A      7\n",
       "G      1\n",
       "Name: Cabin, dtype: int64"
      ]
     },
     "execution_count": 60,
     "metadata": {},
     "output_type": "execute_result"
    }
   ],
   "source": [
    "# Revisamos como ha quedado distribuida la columna \"Cabin\"\n",
    "titanic[\"Cabin\"].value_counts()"
   ]
  },
  {
   "attachments": {},
   "cell_type": "markdown",
   "metadata": {},
   "source": [
    "### \"Embarked\" ------------------------------------------\n",
    "*Puerto desde el que embarcó el pasajero*\n"
   ]
  },
  {
   "cell_type": "code",
   "execution_count": 63,
   "metadata": {},
   "outputs": [
    {
     "data": {
      "text/plain": [
       "count     418\n",
       "unique      3\n",
       "top         S\n",
       "freq      270\n",
       "Name: Embarked, dtype: object"
      ]
     },
     "execution_count": 63,
     "metadata": {},
     "output_type": "execute_result"
    }
   ],
   "source": [
    "titanic['Embarked'].describe()"
   ]
  },
  {
   "cell_type": "code",
   "execution_count": 64,
   "metadata": {},
   "outputs": [
    {
     "data": {
      "text/plain": [
       "0"
      ]
     },
     "execution_count": 64,
     "metadata": {},
     "output_type": "execute_result"
    }
   ],
   "source": [
    "titanic['Embarked'].isna().sum()"
   ]
  },
  {
   "attachments": {},
   "cell_type": "markdown",
   "metadata": {},
   "source": [
    "- Es una variable categórica\n",
    "- No contiene NaN\n",
    "- Deberemos normalizar las columnas categorias en dos columnas por cada una de las clases\n",
    "- Eso lo haremos más adelante con la herramienta OneHotEncoder"
   ]
  },
  {
   "attachments": {},
   "cell_type": "markdown",
   "metadata": {},
   "source": [
    "---"
   ]
  },
  {
   "attachments": {},
   "cell_type": "markdown",
   "metadata": {},
   "source": [
    "## Revisión y tratamiento de las columnas categorizadas : Sex, Cabin, Embarked, Pclass\n",
    "---\n"
   ]
  },
  {
   "cell_type": "markdown",
   "metadata": {},
   "source": [
    "Revisaremos las tres categorías, agregando la columna a una variable que usaremos posteriormente, y revisaremos el tipo de las categorías y sus valores"
   ]
  },
  {
   "cell_type": "markdown",
   "metadata": {},
   "source": [
    "### Sex"
   ]
  },
  {
   "cell_type": "code",
   "execution_count": 65,
   "metadata": {},
   "outputs": [
    {
     "data": {
      "text/plain": [
       "male      266\n",
       "female    152\n",
       "Name: Sex, dtype: int64"
      ]
     },
     "execution_count": 65,
     "metadata": {},
     "output_type": "execute_result"
    }
   ],
   "source": [
    "# agregamos la columna a una variable\n",
    "cat_sexo = titanic[ [\"Sex\"] ]\n",
    "\n",
    "# Revisamos el contenido de la columna\n",
    "titanic[\"Sex\"].value_counts()"
   ]
  },
  {
   "attachments": {},
   "cell_type": "markdown",
   "metadata": {},
   "source": [
    "### Cabin"
   ]
  },
  {
   "cell_type": "code",
   "execution_count": 66,
   "metadata": {},
   "outputs": [
    {
     "data": {
      "text/plain": [
       "U    327\n",
       "C     35\n",
       "B     18\n",
       "D     13\n",
       "E      9\n",
       "F      8\n",
       "A      7\n",
       "G      1\n",
       "Name: Cabin, dtype: int64"
      ]
     },
     "execution_count": 66,
     "metadata": {},
     "output_type": "execute_result"
    }
   ],
   "source": [
    "# agregamos la columna a una variable\n",
    "cat_cabin = titanic[ [\"Cabin\"] ]\n",
    "\n",
    "# Revisamos el contenido de la columna\n",
    "titanic[\"Cabin\"].value_counts()"
   ]
  },
  {
   "attachments": {},
   "cell_type": "markdown",
   "metadata": {},
   "source": [
    "### Embarked"
   ]
  },
  {
   "cell_type": "code",
   "execution_count": 67,
   "metadata": {},
   "outputs": [
    {
     "data": {
      "text/plain": [
       "S    270\n",
       "C    102\n",
       "Q     46\n",
       "Name: Embarked, dtype: int64"
      ]
     },
     "execution_count": 67,
     "metadata": {},
     "output_type": "execute_result"
    }
   ],
   "source": [
    "# agregamos la columna a una variable\n",
    "cat_embar = titanic[ [\"Embarked\"] ]\n",
    "\n",
    "# Revisamos el contenido de la columna\n",
    "titanic[\"Embarked\"].value_counts()"
   ]
  },
  {
   "cell_type": "markdown",
   "metadata": {},
   "source": [
    "### Embarked"
   ]
  },
  {
   "cell_type": "code",
   "execution_count": 68,
   "metadata": {},
   "outputs": [
    {
     "data": {
      "text/plain": [
       "3    218\n",
       "1    107\n",
       "2     93\n",
       "Name: Pclass, dtype: int64"
      ]
     },
     "execution_count": 68,
     "metadata": {},
     "output_type": "execute_result"
    }
   ],
   "source": [
    "# agregamos la columna a una variable\n",
    "cat_pclass = titanic[ [\"Pclass\"] ]\n",
    "\n",
    "# Revisamos el contenido de la columna\n",
    "titanic[\"Pclass\"].value_counts()"
   ]
  },
  {
   "cell_type": "markdown",
   "metadata": {},
   "source": [
    "Podemos observar que son columnas categarizadas, que para el entrenamiento no pueden existir, por lo que necesitamos pasar de columnas categorizadas a otro tipo de expresión como por ejemplo a la división de las categorías en nuevas columnas y poniendo un 0 cuando no se cumpla la condición de la categoría y un \"1\" cuando sí.\n",
    "\n",
    "De esta forma no estaremos añadiendo información al Dataset, y nos permitirá el estudio y el entrenamiento del modelo."
   ]
  },
  {
   "cell_type": "markdown",
   "metadata": {},
   "source": [
    "## Uso de OneHotEncoder para la gestión de las cloumnas categorizadas\n",
    "---"
   ]
  },
  {
   "cell_type": "markdown",
   "metadata": {},
   "source": [
    "OneHotencoder nos permitirá pasar las categorías a diferentes columnas por valor de categoría y agregarle \"0\" y \"1\" en cada caso."
   ]
  },
  {
   "cell_type": "markdown",
   "metadata": {},
   "source": [
    "Ante de nada realizaremos un Backup de los datos por si necesitáramos volver al estado anterior"
   ]
  },
  {
   "cell_type": "code",
   "execution_count": 70,
   "metadata": {},
   "outputs": [],
   "source": [
    "# Haremos una copia para ver los resultados \n",
    "titanic_backup = titanic.copy()"
   ]
  },
  {
   "attachments": {},
   "cell_type": "markdown",
   "metadata": {},
   "source": [
    "Crearemos una nueva variable con el Dataframe Normalizado llamdo \"titanic_norm\""
   ]
  },
  {
   "cell_type": "code",
   "execution_count": 71,
   "metadata": {},
   "outputs": [],
   "source": [
    "titanic_norm = titanic.copy()"
   ]
  },
  {
   "cell_type": "markdown",
   "metadata": {},
   "source": [
    "Llamamos a la librería \"OneHotEncoder\" de Sklearn"
   ]
  },
  {
   "cell_type": "code",
   "execution_count": 72,
   "metadata": {},
   "outputs": [],
   "source": [
    "# Declaramos la librería OneHotEncoder de sklearn\n",
    "from sklearn.preprocessing import OneHotEncoder"
   ]
  },
  {
   "cell_type": "markdown",
   "metadata": {},
   "source": [
    "Usamos el método con cada una de las columnas categóricas, empezando por\n"
   ]
  },
  {
   "cell_type": "markdown",
   "metadata": {},
   "source": [
    "### SEXO"
   ]
  },
  {
   "cell_type": "code",
   "execution_count": 73,
   "metadata": {},
   "outputs": [
    {
     "data": {
      "text/plain": [
       "array([[0., 1.],\n",
       "       [1., 0.],\n",
       "       [0., 1.],\n",
       "       [0., 1.],\n",
       "       [1., 0.],\n",
       "       [0., 1.],\n",
       "       [1., 0.],\n",
       "       [0., 1.],\n",
       "       [1., 0.],\n",
       "       [0., 1.],\n",
       "       [0., 1.],\n",
       "       [0., 1.],\n",
       "       [1., 0.],\n",
       "       [0., 1.],\n",
       "       [1., 0.],\n",
       "       [1., 0.],\n",
       "       [0., 1.],\n",
       "       [0., 1.],\n",
       "       [1., 0.],\n",
       "       [1., 0.],\n",
       "       [0., 1.],\n",
       "       [0., 1.],\n",
       "       [1., 0.],\n",
       "       [0., 1.],\n",
       "       [1., 0.],\n",
       "       [0., 1.],\n",
       "       [1., 0.],\n",
       "       [0., 1.],\n",
       "       [0., 1.],\n",
       "       [0., 1.],\n",
       "       [0., 1.],\n",
       "       [0., 1.],\n",
       "       [1., 0.],\n",
       "       [1., 0.],\n",
       "       [0., 1.],\n",
       "       [0., 1.],\n",
       "       [1., 0.],\n",
       "       [1., 0.],\n",
       "       [0., 1.],\n",
       "       [0., 1.],\n",
       "       [0., 1.],\n",
       "       [0., 1.],\n",
       "       [0., 1.],\n",
       "       [1., 0.],\n",
       "       [1., 0.],\n",
       "       [0., 1.],\n",
       "       [0., 1.],\n",
       "       [0., 1.],\n",
       "       [1., 0.],\n",
       "       [1., 0.],\n",
       "       [0., 1.],\n",
       "       [0., 1.],\n",
       "       [1., 0.],\n",
       "       [1., 0.],\n",
       "       [0., 1.],\n",
       "       [0., 1.],\n",
       "       [0., 1.],\n",
       "       [0., 1.],\n",
       "       [0., 1.],\n",
       "       [1., 0.],\n",
       "       [0., 1.],\n",
       "       [0., 1.],\n",
       "       [0., 1.],\n",
       "       [1., 0.],\n",
       "       [0., 1.],\n",
       "       [1., 0.],\n",
       "       [1., 0.],\n",
       "       [0., 1.],\n",
       "       [0., 1.],\n",
       "       [1., 0.],\n",
       "       [1., 0.],\n",
       "       [0., 1.],\n",
       "       [1., 0.],\n",
       "       [0., 1.],\n",
       "       [1., 0.],\n",
       "       [0., 1.],\n",
       "       [0., 1.],\n",
       "       [1., 0.],\n",
       "       [0., 1.],\n",
       "       [1., 0.],\n",
       "       [0., 1.],\n",
       "       [0., 1.],\n",
       "       [0., 1.],\n",
       "       [0., 1.],\n",
       "       [0., 1.],\n",
       "       [0., 1.],\n",
       "       [1., 0.],\n",
       "       [1., 0.],\n",
       "       [1., 0.],\n",
       "       [0., 1.],\n",
       "       [1., 0.],\n",
       "       [0., 1.],\n",
       "       [1., 0.],\n",
       "       [0., 1.],\n",
       "       [0., 1.],\n",
       "       [0., 1.],\n",
       "       [1., 0.],\n",
       "       [0., 1.],\n",
       "       [1., 0.],\n",
       "       [0., 1.],\n",
       "       [1., 0.],\n",
       "       [0., 1.],\n",
       "       [0., 1.],\n",
       "       [0., 1.],\n",
       "       [1., 0.],\n",
       "       [0., 1.],\n",
       "       [0., 1.],\n",
       "       [0., 1.],\n",
       "       [0., 1.],\n",
       "       [0., 1.],\n",
       "       [0., 1.],\n",
       "       [1., 0.],\n",
       "       [1., 0.],\n",
       "       [1., 0.],\n",
       "       [1., 0.],\n",
       "       [0., 1.],\n",
       "       [0., 1.],\n",
       "       [1., 0.],\n",
       "       [0., 1.],\n",
       "       [1., 0.],\n",
       "       [1., 0.],\n",
       "       [0., 1.],\n",
       "       [1., 0.],\n",
       "       [0., 1.],\n",
       "       [0., 1.],\n",
       "       [1., 0.],\n",
       "       [0., 1.],\n",
       "       [1., 0.],\n",
       "       [0., 1.],\n",
       "       [0., 1.],\n",
       "       [0., 1.],\n",
       "       [0., 1.],\n",
       "       [1., 0.],\n",
       "       [0., 1.],\n",
       "       [0., 1.],\n",
       "       [0., 1.],\n",
       "       [0., 1.],\n",
       "       [0., 1.],\n",
       "       [1., 0.],\n",
       "       [0., 1.],\n",
       "       [1., 0.],\n",
       "       [1., 0.],\n",
       "       [0., 1.],\n",
       "       [0., 1.],\n",
       "       [0., 1.],\n",
       "       [0., 1.],\n",
       "       [0., 1.],\n",
       "       [0., 1.],\n",
       "       [0., 1.],\n",
       "       [0., 1.],\n",
       "       [1., 0.],\n",
       "       [0., 1.],\n",
       "       [0., 1.],\n",
       "       [1., 0.],\n",
       "       [0., 1.],\n",
       "       [0., 1.],\n",
       "       [1., 0.],\n",
       "       [1., 0.],\n",
       "       [0., 1.],\n",
       "       [1., 0.],\n",
       "       [1., 0.],\n",
       "       [0., 1.],\n",
       "       [1., 0.],\n",
       "       [0., 1.],\n",
       "       [0., 1.],\n",
       "       [1., 0.],\n",
       "       [0., 1.],\n",
       "       [0., 1.],\n",
       "       [1., 0.],\n",
       "       [1., 0.],\n",
       "       [0., 1.],\n",
       "       [0., 1.],\n",
       "       [0., 1.],\n",
       "       [0., 1.],\n",
       "       [0., 1.],\n",
       "       [1., 0.],\n",
       "       [1., 0.],\n",
       "       [0., 1.],\n",
       "       [1., 0.],\n",
       "       [1., 0.],\n",
       "       [0., 1.],\n",
       "       [0., 1.],\n",
       "       [1., 0.],\n",
       "       [0., 1.],\n",
       "       [1., 0.],\n",
       "       [0., 1.],\n",
       "       [1., 0.],\n",
       "       [0., 1.],\n",
       "       [1., 0.],\n",
       "       [0., 1.],\n",
       "       [0., 1.],\n",
       "       [0., 1.],\n",
       "       [0., 1.],\n",
       "       [0., 1.],\n",
       "       [0., 1.],\n",
       "       [0., 1.],\n",
       "       [0., 1.],\n",
       "       [1., 0.],\n",
       "       [0., 1.],\n",
       "       [1., 0.],\n",
       "       [1., 0.],\n",
       "       [0., 1.],\n",
       "       [0., 1.],\n",
       "       [1., 0.],\n",
       "       [0., 1.],\n",
       "       [0., 1.],\n",
       "       [1., 0.],\n",
       "       [0., 1.],\n",
       "       [1., 0.],\n",
       "       [0., 1.],\n",
       "       [0., 1.],\n",
       "       [0., 1.],\n",
       "       [0., 1.],\n",
       "       [1., 0.],\n",
       "       [1., 0.],\n",
       "       [0., 1.],\n",
       "       [1., 0.],\n",
       "       [0., 1.],\n",
       "       [1., 0.],\n",
       "       [0., 1.],\n",
       "       [1., 0.],\n",
       "       [0., 1.],\n",
       "       [1., 0.],\n",
       "       [0., 1.],\n",
       "       [1., 0.],\n",
       "       [1., 0.],\n",
       "       [0., 1.],\n",
       "       [1., 0.],\n",
       "       [0., 1.],\n",
       "       [0., 1.],\n",
       "       [0., 1.],\n",
       "       [1., 0.],\n",
       "       [0., 1.],\n",
       "       [0., 1.],\n",
       "       [0., 1.],\n",
       "       [0., 1.],\n",
       "       [0., 1.],\n",
       "       [0., 1.],\n",
       "       [1., 0.],\n",
       "       [1., 0.],\n",
       "       [1., 0.],\n",
       "       [1., 0.],\n",
       "       [0., 1.],\n",
       "       [0., 1.],\n",
       "       [0., 1.],\n",
       "       [0., 1.],\n",
       "       [1., 0.],\n",
       "       [0., 1.],\n",
       "       [1., 0.],\n",
       "       [1., 0.],\n",
       "       [1., 0.],\n",
       "       [0., 1.],\n",
       "       [0., 1.],\n",
       "       [0., 1.],\n",
       "       [0., 1.],\n",
       "       [0., 1.],\n",
       "       [0., 1.],\n",
       "       [0., 1.],\n",
       "       [1., 0.],\n",
       "       [0., 1.],\n",
       "       [0., 1.],\n",
       "       [0., 1.],\n",
       "       [1., 0.],\n",
       "       [1., 0.],\n",
       "       [0., 1.],\n",
       "       [0., 1.],\n",
       "       [0., 1.],\n",
       "       [0., 1.],\n",
       "       [1., 0.],\n",
       "       [0., 1.],\n",
       "       [0., 1.],\n",
       "       [0., 1.],\n",
       "       [1., 0.],\n",
       "       [1., 0.],\n",
       "       [0., 1.],\n",
       "       [1., 0.],\n",
       "       [0., 1.],\n",
       "       [0., 1.],\n",
       "       [0., 1.],\n",
       "       [0., 1.],\n",
       "       [1., 0.],\n",
       "       [0., 1.],\n",
       "       [1., 0.],\n",
       "       [1., 0.],\n",
       "       [1., 0.],\n",
       "       [0., 1.],\n",
       "       [0., 1.],\n",
       "       [0., 1.],\n",
       "       [0., 1.],\n",
       "       [0., 1.],\n",
       "       [0., 1.],\n",
       "       [1., 0.],\n",
       "       [0., 1.],\n",
       "       [0., 1.],\n",
       "       [0., 1.],\n",
       "       [0., 1.],\n",
       "       [1., 0.],\n",
       "       [0., 1.],\n",
       "       [0., 1.],\n",
       "       [0., 1.],\n",
       "       [0., 1.],\n",
       "       [0., 1.],\n",
       "       [0., 1.],\n",
       "       [0., 1.],\n",
       "       [1., 0.],\n",
       "       [1., 0.],\n",
       "       [0., 1.],\n",
       "       [0., 1.],\n",
       "       [0., 1.],\n",
       "       [1., 0.],\n",
       "       [0., 1.],\n",
       "       [0., 1.],\n",
       "       [0., 1.],\n",
       "       [1., 0.],\n",
       "       [1., 0.],\n",
       "       [1., 0.],\n",
       "       [0., 1.],\n",
       "       [0., 1.],\n",
       "       [0., 1.],\n",
       "       [0., 1.],\n",
       "       [0., 1.],\n",
       "       [0., 1.],\n",
       "       [0., 1.],\n",
       "       [0., 1.],\n",
       "       [1., 0.],\n",
       "       [0., 1.],\n",
       "       [1., 0.],\n",
       "       [0., 1.],\n",
       "       [0., 1.],\n",
       "       [0., 1.],\n",
       "       [1., 0.],\n",
       "       [0., 1.],\n",
       "       [0., 1.],\n",
       "       [1., 0.],\n",
       "       [0., 1.],\n",
       "       [0., 1.],\n",
       "       [0., 1.],\n",
       "       [0., 1.],\n",
       "       [0., 1.],\n",
       "       [0., 1.],\n",
       "       [0., 1.],\n",
       "       [0., 1.],\n",
       "       [0., 1.],\n",
       "       [1., 0.],\n",
       "       [0., 1.],\n",
       "       [1., 0.],\n",
       "       [0., 1.],\n",
       "       [1., 0.],\n",
       "       [0., 1.],\n",
       "       [1., 0.],\n",
       "       [1., 0.],\n",
       "       [0., 1.],\n",
       "       [0., 1.],\n",
       "       [0., 1.],\n",
       "       [1., 0.],\n",
       "       [0., 1.],\n",
       "       [1., 0.],\n",
       "       [0., 1.],\n",
       "       [0., 1.],\n",
       "       [1., 0.],\n",
       "       [0., 1.],\n",
       "       [1., 0.],\n",
       "       [1., 0.],\n",
       "       [0., 1.],\n",
       "       [1., 0.],\n",
       "       [1., 0.],\n",
       "       [0., 1.],\n",
       "       [1., 0.],\n",
       "       [1., 0.],\n",
       "       [0., 1.],\n",
       "       [0., 1.],\n",
       "       [1., 0.],\n",
       "       [0., 1.],\n",
       "       [0., 1.],\n",
       "       [1., 0.],\n",
       "       [1., 0.],\n",
       "       [1., 0.],\n",
       "       [0., 1.],\n",
       "       [0., 1.],\n",
       "       [0., 1.],\n",
       "       [0., 1.],\n",
       "       [0., 1.],\n",
       "       [1., 0.],\n",
       "       [1., 0.],\n",
       "       [0., 1.],\n",
       "       [1., 0.],\n",
       "       [0., 1.],\n",
       "       [0., 1.],\n",
       "       [0., 1.],\n",
       "       [0., 1.],\n",
       "       [0., 1.],\n",
       "       [1., 0.],\n",
       "       [0., 1.],\n",
       "       [0., 1.],\n",
       "       [0., 1.],\n",
       "       [1., 0.],\n",
       "       [0., 1.],\n",
       "       [1., 0.],\n",
       "       [0., 1.],\n",
       "       [0., 1.],\n",
       "       [1., 0.],\n",
       "       [0., 1.],\n",
       "       [1., 0.],\n",
       "       [0., 1.],\n",
       "       [0., 1.],\n",
       "       [0., 1.],\n",
       "       [0., 1.],\n",
       "       [0., 1.],\n",
       "       [1., 0.],\n",
       "       [1., 0.],\n",
       "       [1., 0.],\n",
       "       [1., 0.],\n",
       "       [1., 0.],\n",
       "       [0., 1.],\n",
       "       [1., 0.],\n",
       "       [0., 1.],\n",
       "       [0., 1.],\n",
       "       [0., 1.]])"
      ]
     },
     "execution_count": 73,
     "metadata": {},
     "output_type": "execute_result"
    }
   ],
   "source": [
    "sexo_encoder =OneHotEncoder(sparse=False)\n",
    "# para la categoria Sexo (male/female)\n",
    "sexo_cat_1hot = sexo_encoder.fit_transform(cat_sexo)\n",
    "\n",
    "sexo_cat_1hot"
   ]
  },
  {
   "cell_type": "code",
   "execution_count": 74,
   "metadata": {},
   "outputs": [
    {
     "data": {
      "text/plain": [
       "[array(['female', 'male'], dtype=object)]"
      ]
     },
     "execution_count": 74,
     "metadata": {},
     "output_type": "execute_result"
    }
   ],
   "source": [
    "# Aquí tendremos los nombre de las categorías\n",
    "sexo_encoder.categories_"
   ]
  },
  {
   "cell_type": "code",
   "execution_count": 75,
   "metadata": {},
   "outputs": [
    {
     "name": "stdout",
     "output_type": "stream",
     "text": [
      "<class 'pandas.core.frame.DataFrame'>\n",
      "RangeIndex: 418 entries, 0 to 417\n",
      "Data columns (total 10 columns):\n",
      " #   Column    Non-Null Count  Dtype  \n",
      "---  ------    --------------  -----  \n",
      " 0   Survived  418 non-null    int64  \n",
      " 1   Pclass    418 non-null    int64  \n",
      " 2   Age       418 non-null    float64\n",
      " 3   SibSp     418 non-null    int64  \n",
      " 4   Parch     418 non-null    int64  \n",
      " 5   Fare      418 non-null    float64\n",
      " 6   Cabin     418 non-null    object \n",
      " 7   Embarked  418 non-null    object \n",
      " 8   female    418 non-null    float64\n",
      " 9   male      418 non-null    float64\n",
      "dtypes: float64(4), int64(4), object(2)\n",
      "memory usage: 32.8+ KB\n"
     ]
    },
    {
     "data": {
      "text/html": [
       "<div>\n",
       "<style scoped>\n",
       "    .dataframe tbody tr th:only-of-type {\n",
       "        vertical-align: middle;\n",
       "    }\n",
       "\n",
       "    .dataframe tbody tr th {\n",
       "        vertical-align: top;\n",
       "    }\n",
       "\n",
       "    .dataframe thead th {\n",
       "        text-align: right;\n",
       "    }\n",
       "</style>\n",
       "<table border=\"1\" class=\"dataframe\">\n",
       "  <thead>\n",
       "    <tr style=\"text-align: right;\">\n",
       "      <th></th>\n",
       "      <th>Survived</th>\n",
       "      <th>Pclass</th>\n",
       "      <th>Age</th>\n",
       "      <th>SibSp</th>\n",
       "      <th>Parch</th>\n",
       "      <th>Fare</th>\n",
       "      <th>Cabin</th>\n",
       "      <th>Embarked</th>\n",
       "      <th>female</th>\n",
       "      <th>male</th>\n",
       "    </tr>\n",
       "  </thead>\n",
       "  <tbody>\n",
       "    <tr>\n",
       "      <th>0</th>\n",
       "      <td>0</td>\n",
       "      <td>3</td>\n",
       "      <td>34.5</td>\n",
       "      <td>0</td>\n",
       "      <td>0</td>\n",
       "      <td>7.8292</td>\n",
       "      <td>U</td>\n",
       "      <td>Q</td>\n",
       "      <td>0.0</td>\n",
       "      <td>1.0</td>\n",
       "    </tr>\n",
       "    <tr>\n",
       "      <th>1</th>\n",
       "      <td>1</td>\n",
       "      <td>3</td>\n",
       "      <td>47.0</td>\n",
       "      <td>1</td>\n",
       "      <td>0</td>\n",
       "      <td>7.0000</td>\n",
       "      <td>U</td>\n",
       "      <td>S</td>\n",
       "      <td>1.0</td>\n",
       "      <td>0.0</td>\n",
       "    </tr>\n",
       "    <tr>\n",
       "      <th>2</th>\n",
       "      <td>0</td>\n",
       "      <td>2</td>\n",
       "      <td>62.0</td>\n",
       "      <td>0</td>\n",
       "      <td>0</td>\n",
       "      <td>9.6875</td>\n",
       "      <td>U</td>\n",
       "      <td>Q</td>\n",
       "      <td>0.0</td>\n",
       "      <td>1.0</td>\n",
       "    </tr>\n",
       "    <tr>\n",
       "      <th>3</th>\n",
       "      <td>0</td>\n",
       "      <td>3</td>\n",
       "      <td>27.0</td>\n",
       "      <td>0</td>\n",
       "      <td>0</td>\n",
       "      <td>8.6625</td>\n",
       "      <td>U</td>\n",
       "      <td>S</td>\n",
       "      <td>0.0</td>\n",
       "      <td>1.0</td>\n",
       "    </tr>\n",
       "    <tr>\n",
       "      <th>4</th>\n",
       "      <td>1</td>\n",
       "      <td>3</td>\n",
       "      <td>22.0</td>\n",
       "      <td>1</td>\n",
       "      <td>1</td>\n",
       "      <td>12.2875</td>\n",
       "      <td>U</td>\n",
       "      <td>S</td>\n",
       "      <td>1.0</td>\n",
       "      <td>0.0</td>\n",
       "    </tr>\n",
       "  </tbody>\n",
       "</table>\n",
       "</div>"
      ],
      "text/plain": [
       "   Survived  Pclass   Age  SibSp  Parch     Fare Cabin Embarked  female  male\n",
       "0         0       3  34.5      0      0   7.8292     U        Q     0.0   1.0\n",
       "1         1       3  47.0      1      0   7.0000     U        S     1.0   0.0\n",
       "2         0       2  62.0      0      0   9.6875     U        Q     0.0   1.0\n",
       "3         0       3  27.0      0      0   8.6625     U        S     0.0   1.0\n",
       "4         1       3  22.0      1      1  12.2875     U        S     1.0   0.0"
      ]
     },
     "execution_count": 75,
     "metadata": {},
     "output_type": "execute_result"
    }
   ],
   "source": [
    "# Ahora sustituiremos la columna Sexo , por las de OneHotEncoder\n",
    "titanic_norm.reset_index(drop=False, inplace=True)\n",
    "titanic_norm=titanic_norm.join(pd.DataFrame(sexo_cat_1hot, columns=[cat for cat in sexo_encoder.categories_[0]]))\n",
    "# Borraremos la columna categorizada, así como el index que se añadió al realizar el join \n",
    "titanic_norm=titanic_norm.drop([\"Sex\",\"index\"], axis=1)\n",
    "# Mostramos el resultado\n",
    "titanic_norm.info()\n",
    "titanic_norm.head()"
   ]
  },
  {
   "attachments": {},
   "cell_type": "markdown",
   "metadata": {},
   "source": [
    "### CABIN"
   ]
  },
  {
   "cell_type": "code",
   "execution_count": 76,
   "metadata": {},
   "outputs": [
    {
     "name": "stdout",
     "output_type": "stream",
     "text": [
      "<class 'pandas.core.frame.DataFrame'>\n",
      "RangeIndex: 418 entries, 0 to 417\n",
      "Data columns (total 17 columns):\n",
      " #   Column    Non-Null Count  Dtype  \n",
      "---  ------    --------------  -----  \n",
      " 0   Survived  418 non-null    int64  \n",
      " 1   Pclass    418 non-null    int64  \n",
      " 2   Age       418 non-null    float64\n",
      " 3   SibSp     418 non-null    int64  \n",
      " 4   Parch     418 non-null    int64  \n",
      " 5   Fare      418 non-null    float64\n",
      " 6   Embarked  418 non-null    object \n",
      " 7   female    418 non-null    float64\n",
      " 8   male      418 non-null    float64\n",
      " 9   A         418 non-null    float64\n",
      " 10  B         418 non-null    float64\n",
      " 11  C         418 non-null    float64\n",
      " 12  D         418 non-null    float64\n",
      " 13  E         418 non-null    float64\n",
      " 14  F         418 non-null    float64\n",
      " 15  G         418 non-null    float64\n",
      " 16  U         418 non-null    float64\n",
      "dtypes: float64(12), int64(4), object(1)\n",
      "memory usage: 55.6+ KB\n"
     ]
    },
    {
     "data": {
      "text/html": [
       "<div>\n",
       "<style scoped>\n",
       "    .dataframe tbody tr th:only-of-type {\n",
       "        vertical-align: middle;\n",
       "    }\n",
       "\n",
       "    .dataframe tbody tr th {\n",
       "        vertical-align: top;\n",
       "    }\n",
       "\n",
       "    .dataframe thead th {\n",
       "        text-align: right;\n",
       "    }\n",
       "</style>\n",
       "<table border=\"1\" class=\"dataframe\">\n",
       "  <thead>\n",
       "    <tr style=\"text-align: right;\">\n",
       "      <th></th>\n",
       "      <th>Survived</th>\n",
       "      <th>Pclass</th>\n",
       "      <th>Age</th>\n",
       "      <th>SibSp</th>\n",
       "      <th>Parch</th>\n",
       "      <th>Fare</th>\n",
       "      <th>Embarked</th>\n",
       "      <th>female</th>\n",
       "      <th>male</th>\n",
       "      <th>A</th>\n",
       "      <th>B</th>\n",
       "      <th>C</th>\n",
       "      <th>D</th>\n",
       "      <th>E</th>\n",
       "      <th>F</th>\n",
       "      <th>G</th>\n",
       "      <th>U</th>\n",
       "    </tr>\n",
       "  </thead>\n",
       "  <tbody>\n",
       "    <tr>\n",
       "      <th>0</th>\n",
       "      <td>0</td>\n",
       "      <td>3</td>\n",
       "      <td>34.5</td>\n",
       "      <td>0</td>\n",
       "      <td>0</td>\n",
       "      <td>7.8292</td>\n",
       "      <td>Q</td>\n",
       "      <td>0.0</td>\n",
       "      <td>1.0</td>\n",
       "      <td>0.0</td>\n",
       "      <td>0.0</td>\n",
       "      <td>0.0</td>\n",
       "      <td>0.0</td>\n",
       "      <td>0.0</td>\n",
       "      <td>0.0</td>\n",
       "      <td>0.0</td>\n",
       "      <td>1.0</td>\n",
       "    </tr>\n",
       "    <tr>\n",
       "      <th>1</th>\n",
       "      <td>1</td>\n",
       "      <td>3</td>\n",
       "      <td>47.0</td>\n",
       "      <td>1</td>\n",
       "      <td>0</td>\n",
       "      <td>7.0000</td>\n",
       "      <td>S</td>\n",
       "      <td>1.0</td>\n",
       "      <td>0.0</td>\n",
       "      <td>0.0</td>\n",
       "      <td>0.0</td>\n",
       "      <td>0.0</td>\n",
       "      <td>0.0</td>\n",
       "      <td>0.0</td>\n",
       "      <td>0.0</td>\n",
       "      <td>0.0</td>\n",
       "      <td>1.0</td>\n",
       "    </tr>\n",
       "    <tr>\n",
       "      <th>2</th>\n",
       "      <td>0</td>\n",
       "      <td>2</td>\n",
       "      <td>62.0</td>\n",
       "      <td>0</td>\n",
       "      <td>0</td>\n",
       "      <td>9.6875</td>\n",
       "      <td>Q</td>\n",
       "      <td>0.0</td>\n",
       "      <td>1.0</td>\n",
       "      <td>0.0</td>\n",
       "      <td>0.0</td>\n",
       "      <td>0.0</td>\n",
       "      <td>0.0</td>\n",
       "      <td>0.0</td>\n",
       "      <td>0.0</td>\n",
       "      <td>0.0</td>\n",
       "      <td>1.0</td>\n",
       "    </tr>\n",
       "    <tr>\n",
       "      <th>3</th>\n",
       "      <td>0</td>\n",
       "      <td>3</td>\n",
       "      <td>27.0</td>\n",
       "      <td>0</td>\n",
       "      <td>0</td>\n",
       "      <td>8.6625</td>\n",
       "      <td>S</td>\n",
       "      <td>0.0</td>\n",
       "      <td>1.0</td>\n",
       "      <td>0.0</td>\n",
       "      <td>0.0</td>\n",
       "      <td>0.0</td>\n",
       "      <td>0.0</td>\n",
       "      <td>0.0</td>\n",
       "      <td>0.0</td>\n",
       "      <td>0.0</td>\n",
       "      <td>1.0</td>\n",
       "    </tr>\n",
       "    <tr>\n",
       "      <th>4</th>\n",
       "      <td>1</td>\n",
       "      <td>3</td>\n",
       "      <td>22.0</td>\n",
       "      <td>1</td>\n",
       "      <td>1</td>\n",
       "      <td>12.2875</td>\n",
       "      <td>S</td>\n",
       "      <td>1.0</td>\n",
       "      <td>0.0</td>\n",
       "      <td>0.0</td>\n",
       "      <td>0.0</td>\n",
       "      <td>0.0</td>\n",
       "      <td>0.0</td>\n",
       "      <td>0.0</td>\n",
       "      <td>0.0</td>\n",
       "      <td>0.0</td>\n",
       "      <td>1.0</td>\n",
       "    </tr>\n",
       "  </tbody>\n",
       "</table>\n",
       "</div>"
      ],
      "text/plain": [
       "   Survived  Pclass   Age  SibSp  Parch     Fare Embarked  female  male    A  \\\n",
       "0         0       3  34.5      0      0   7.8292        Q     0.0   1.0  0.0   \n",
       "1         1       3  47.0      1      0   7.0000        S     1.0   0.0  0.0   \n",
       "2         0       2  62.0      0      0   9.6875        Q     0.0   1.0  0.0   \n",
       "3         0       3  27.0      0      0   8.6625        S     0.0   1.0  0.0   \n",
       "4         1       3  22.0      1      1  12.2875        S     1.0   0.0  0.0   \n",
       "\n",
       "     B    C    D    E    F    G    U  \n",
       "0  0.0  0.0  0.0  0.0  0.0  0.0  1.0  \n",
       "1  0.0  0.0  0.0  0.0  0.0  0.0  1.0  \n",
       "2  0.0  0.0  0.0  0.0  0.0  0.0  1.0  \n",
       "3  0.0  0.0  0.0  0.0  0.0  0.0  1.0  \n",
       "4  0.0  0.0  0.0  0.0  0.0  0.0  1.0  "
      ]
     },
     "execution_count": 76,
     "metadata": {},
     "output_type": "execute_result"
    }
   ],
   "source": [
    "cabin_encoder =OneHotEncoder(sparse=False)\n",
    "# para la categoria Sexo (male/female)\n",
    "cabin_cat_1hot = cabin_encoder.fit_transform(cat_cabin)\n",
    "\n",
    "# Ahora sustituiremos la columna Sexo , por las de OneHotEncoder\n",
    "titanic_norm.reset_index(drop=False, inplace=True)\n",
    "titanic_norm=titanic_norm.join(pd.DataFrame(cabin_cat_1hot, columns=[cat for cat in cabin_encoder.categories_[0]]))\n",
    "# Borraremos la columna categorizada, así como el index que se añadió al realizar el join \n",
    "titanic_norm=titanic_norm.drop([\"Cabin\",\"index\"], axis=1)\n",
    "# Mostramos el resultado\n",
    "titanic_norm.info()\n",
    "titanic_norm.head()"
   ]
  },
  {
   "cell_type": "code",
   "execution_count": 77,
   "metadata": {},
   "outputs": [
    {
     "data": {
      "text/html": [
       "<div>\n",
       "<style scoped>\n",
       "    .dataframe tbody tr th:only-of-type {\n",
       "        vertical-align: middle;\n",
       "    }\n",
       "\n",
       "    .dataframe tbody tr th {\n",
       "        vertical-align: top;\n",
       "    }\n",
       "\n",
       "    .dataframe thead th {\n",
       "        text-align: right;\n",
       "    }\n",
       "</style>\n",
       "<table border=\"1\" class=\"dataframe\">\n",
       "  <thead>\n",
       "    <tr style=\"text-align: right;\">\n",
       "      <th></th>\n",
       "      <th>Survived</th>\n",
       "      <th>Pclass</th>\n",
       "      <th>Age</th>\n",
       "      <th>SibSp</th>\n",
       "      <th>Parch</th>\n",
       "      <th>Fare</th>\n",
       "      <th>Embarked</th>\n",
       "      <th>female</th>\n",
       "      <th>male</th>\n",
       "      <th>Cabin A</th>\n",
       "      <th>Cabin B</th>\n",
       "      <th>Cabin C</th>\n",
       "      <th>Cabin D</th>\n",
       "      <th>Cabin E</th>\n",
       "      <th>Cabin F</th>\n",
       "      <th>Cabin G</th>\n",
       "      <th>Cabin U</th>\n",
       "    </tr>\n",
       "  </thead>\n",
       "  <tbody>\n",
       "    <tr>\n",
       "      <th>0</th>\n",
       "      <td>0</td>\n",
       "      <td>3</td>\n",
       "      <td>34.5</td>\n",
       "      <td>0</td>\n",
       "      <td>0</td>\n",
       "      <td>7.8292</td>\n",
       "      <td>Q</td>\n",
       "      <td>0.0</td>\n",
       "      <td>1.0</td>\n",
       "      <td>0.0</td>\n",
       "      <td>0.0</td>\n",
       "      <td>0.0</td>\n",
       "      <td>0.0</td>\n",
       "      <td>0.0</td>\n",
       "      <td>0.0</td>\n",
       "      <td>0.0</td>\n",
       "      <td>1.0</td>\n",
       "    </tr>\n",
       "    <tr>\n",
       "      <th>1</th>\n",
       "      <td>1</td>\n",
       "      <td>3</td>\n",
       "      <td>47.0</td>\n",
       "      <td>1</td>\n",
       "      <td>0</td>\n",
       "      <td>7.0000</td>\n",
       "      <td>S</td>\n",
       "      <td>1.0</td>\n",
       "      <td>0.0</td>\n",
       "      <td>0.0</td>\n",
       "      <td>0.0</td>\n",
       "      <td>0.0</td>\n",
       "      <td>0.0</td>\n",
       "      <td>0.0</td>\n",
       "      <td>0.0</td>\n",
       "      <td>0.0</td>\n",
       "      <td>1.0</td>\n",
       "    </tr>\n",
       "    <tr>\n",
       "      <th>2</th>\n",
       "      <td>0</td>\n",
       "      <td>2</td>\n",
       "      <td>62.0</td>\n",
       "      <td>0</td>\n",
       "      <td>0</td>\n",
       "      <td>9.6875</td>\n",
       "      <td>Q</td>\n",
       "      <td>0.0</td>\n",
       "      <td>1.0</td>\n",
       "      <td>0.0</td>\n",
       "      <td>0.0</td>\n",
       "      <td>0.0</td>\n",
       "      <td>0.0</td>\n",
       "      <td>0.0</td>\n",
       "      <td>0.0</td>\n",
       "      <td>0.0</td>\n",
       "      <td>1.0</td>\n",
       "    </tr>\n",
       "    <tr>\n",
       "      <th>3</th>\n",
       "      <td>0</td>\n",
       "      <td>3</td>\n",
       "      <td>27.0</td>\n",
       "      <td>0</td>\n",
       "      <td>0</td>\n",
       "      <td>8.6625</td>\n",
       "      <td>S</td>\n",
       "      <td>0.0</td>\n",
       "      <td>1.0</td>\n",
       "      <td>0.0</td>\n",
       "      <td>0.0</td>\n",
       "      <td>0.0</td>\n",
       "      <td>0.0</td>\n",
       "      <td>0.0</td>\n",
       "      <td>0.0</td>\n",
       "      <td>0.0</td>\n",
       "      <td>1.0</td>\n",
       "    </tr>\n",
       "    <tr>\n",
       "      <th>4</th>\n",
       "      <td>1</td>\n",
       "      <td>3</td>\n",
       "      <td>22.0</td>\n",
       "      <td>1</td>\n",
       "      <td>1</td>\n",
       "      <td>12.2875</td>\n",
       "      <td>S</td>\n",
       "      <td>1.0</td>\n",
       "      <td>0.0</td>\n",
       "      <td>0.0</td>\n",
       "      <td>0.0</td>\n",
       "      <td>0.0</td>\n",
       "      <td>0.0</td>\n",
       "      <td>0.0</td>\n",
       "      <td>0.0</td>\n",
       "      <td>0.0</td>\n",
       "      <td>1.0</td>\n",
       "    </tr>\n",
       "  </tbody>\n",
       "</table>\n",
       "</div>"
      ],
      "text/plain": [
       "   Survived  Pclass   Age  SibSp  Parch     Fare Embarked  female  male  \\\n",
       "0         0       3  34.5      0      0   7.8292        Q     0.0   1.0   \n",
       "1         1       3  47.0      1      0   7.0000        S     1.0   0.0   \n",
       "2         0       2  62.0      0      0   9.6875        Q     0.0   1.0   \n",
       "3         0       3  27.0      0      0   8.6625        S     0.0   1.0   \n",
       "4         1       3  22.0      1      1  12.2875        S     1.0   0.0   \n",
       "\n",
       "   Cabin A  Cabin B  Cabin C  Cabin D  Cabin E  Cabin F  Cabin G  Cabin U  \n",
       "0      0.0      0.0      0.0      0.0      0.0      0.0      0.0      1.0  \n",
       "1      0.0      0.0      0.0      0.0      0.0      0.0      0.0      1.0  \n",
       "2      0.0      0.0      0.0      0.0      0.0      0.0      0.0      1.0  \n",
       "3      0.0      0.0      0.0      0.0      0.0      0.0      0.0      1.0  \n",
       "4      0.0      0.0      0.0      0.0      0.0      0.0      0.0      1.0  "
      ]
     },
     "execution_count": 77,
     "metadata": {},
     "output_type": "execute_result"
    }
   ],
   "source": [
    "# Cambiamos el nombre d elas columnas para entenderlo mejor\n",
    "titanic_norm=titanic_norm.rename(columns={\"A\":\"Cabin A\"});\n",
    "titanic_norm=titanic_norm.rename(columns={\"B\":\"Cabin B\"});\n",
    "titanic_norm=titanic_norm.rename(columns={\"C\":\"Cabin C\"});\n",
    "titanic_norm=titanic_norm.rename(columns={\"D\":\"Cabin D\"});\n",
    "titanic_norm=titanic_norm.rename(columns={\"E\":\"Cabin E\"});\n",
    "titanic_norm=titanic_norm.rename(columns={\"F\":\"Cabin F\"});\n",
    "titanic_norm=titanic_norm.rename(columns={\"G\":\"Cabin G\"});\n",
    "titanic_norm=titanic_norm.rename(columns={\"U\":\"Cabin U\"});\n",
    "\n",
    "# Revisamos cambios \n",
    "titanic_norm.head()"
   ]
  },
  {
   "attachments": {},
   "cell_type": "markdown",
   "metadata": {},
   "source": [
    "### EMBARKED"
   ]
  },
  {
   "cell_type": "code",
   "execution_count": 78,
   "metadata": {},
   "outputs": [
    {
     "name": "stdout",
     "output_type": "stream",
     "text": [
      "<class 'pandas.core.frame.DataFrame'>\n",
      "RangeIndex: 418 entries, 0 to 417\n",
      "Data columns (total 19 columns):\n",
      " #   Column    Non-Null Count  Dtype  \n",
      "---  ------    --------------  -----  \n",
      " 0   Survived  418 non-null    int64  \n",
      " 1   Pclass    418 non-null    int64  \n",
      " 2   Age       418 non-null    float64\n",
      " 3   SibSp     418 non-null    int64  \n",
      " 4   Parch     418 non-null    int64  \n",
      " 5   Fare      418 non-null    float64\n",
      " 6   female    418 non-null    float64\n",
      " 7   male      418 non-null    float64\n",
      " 8   Cabin A   418 non-null    float64\n",
      " 9   Cabin B   418 non-null    float64\n",
      " 10  Cabin C   418 non-null    float64\n",
      " 11  Cabin D   418 non-null    float64\n",
      " 12  Cabin E   418 non-null    float64\n",
      " 13  Cabin F   418 non-null    float64\n",
      " 14  Cabin G   418 non-null    float64\n",
      " 15  Cabin U   418 non-null    float64\n",
      " 16  C         418 non-null    float64\n",
      " 17  Q         418 non-null    float64\n",
      " 18  S         418 non-null    float64\n",
      "dtypes: float64(15), int64(4)\n",
      "memory usage: 62.2 KB\n"
     ]
    },
    {
     "data": {
      "text/html": [
       "<div>\n",
       "<style scoped>\n",
       "    .dataframe tbody tr th:only-of-type {\n",
       "        vertical-align: middle;\n",
       "    }\n",
       "\n",
       "    .dataframe tbody tr th {\n",
       "        vertical-align: top;\n",
       "    }\n",
       "\n",
       "    .dataframe thead th {\n",
       "        text-align: right;\n",
       "    }\n",
       "</style>\n",
       "<table border=\"1\" class=\"dataframe\">\n",
       "  <thead>\n",
       "    <tr style=\"text-align: right;\">\n",
       "      <th></th>\n",
       "      <th>Survived</th>\n",
       "      <th>Pclass</th>\n",
       "      <th>Age</th>\n",
       "      <th>SibSp</th>\n",
       "      <th>Parch</th>\n",
       "      <th>Fare</th>\n",
       "      <th>female</th>\n",
       "      <th>male</th>\n",
       "      <th>Cabin A</th>\n",
       "      <th>Cabin B</th>\n",
       "      <th>Cabin C</th>\n",
       "      <th>Cabin D</th>\n",
       "      <th>Cabin E</th>\n",
       "      <th>Cabin F</th>\n",
       "      <th>Cabin G</th>\n",
       "      <th>Cabin U</th>\n",
       "      <th>C</th>\n",
       "      <th>Q</th>\n",
       "      <th>S</th>\n",
       "    </tr>\n",
       "  </thead>\n",
       "  <tbody>\n",
       "    <tr>\n",
       "      <th>0</th>\n",
       "      <td>0</td>\n",
       "      <td>3</td>\n",
       "      <td>34.5</td>\n",
       "      <td>0</td>\n",
       "      <td>0</td>\n",
       "      <td>7.8292</td>\n",
       "      <td>0.0</td>\n",
       "      <td>1.0</td>\n",
       "      <td>0.0</td>\n",
       "      <td>0.0</td>\n",
       "      <td>0.0</td>\n",
       "      <td>0.0</td>\n",
       "      <td>0.0</td>\n",
       "      <td>0.0</td>\n",
       "      <td>0.0</td>\n",
       "      <td>1.0</td>\n",
       "      <td>0.0</td>\n",
       "      <td>1.0</td>\n",
       "      <td>0.0</td>\n",
       "    </tr>\n",
       "    <tr>\n",
       "      <th>1</th>\n",
       "      <td>1</td>\n",
       "      <td>3</td>\n",
       "      <td>47.0</td>\n",
       "      <td>1</td>\n",
       "      <td>0</td>\n",
       "      <td>7.0000</td>\n",
       "      <td>1.0</td>\n",
       "      <td>0.0</td>\n",
       "      <td>0.0</td>\n",
       "      <td>0.0</td>\n",
       "      <td>0.0</td>\n",
       "      <td>0.0</td>\n",
       "      <td>0.0</td>\n",
       "      <td>0.0</td>\n",
       "      <td>0.0</td>\n",
       "      <td>1.0</td>\n",
       "      <td>0.0</td>\n",
       "      <td>0.0</td>\n",
       "      <td>1.0</td>\n",
       "    </tr>\n",
       "    <tr>\n",
       "      <th>2</th>\n",
       "      <td>0</td>\n",
       "      <td>2</td>\n",
       "      <td>62.0</td>\n",
       "      <td>0</td>\n",
       "      <td>0</td>\n",
       "      <td>9.6875</td>\n",
       "      <td>0.0</td>\n",
       "      <td>1.0</td>\n",
       "      <td>0.0</td>\n",
       "      <td>0.0</td>\n",
       "      <td>0.0</td>\n",
       "      <td>0.0</td>\n",
       "      <td>0.0</td>\n",
       "      <td>0.0</td>\n",
       "      <td>0.0</td>\n",
       "      <td>1.0</td>\n",
       "      <td>0.0</td>\n",
       "      <td>1.0</td>\n",
       "      <td>0.0</td>\n",
       "    </tr>\n",
       "    <tr>\n",
       "      <th>3</th>\n",
       "      <td>0</td>\n",
       "      <td>3</td>\n",
       "      <td>27.0</td>\n",
       "      <td>0</td>\n",
       "      <td>0</td>\n",
       "      <td>8.6625</td>\n",
       "      <td>0.0</td>\n",
       "      <td>1.0</td>\n",
       "      <td>0.0</td>\n",
       "      <td>0.0</td>\n",
       "      <td>0.0</td>\n",
       "      <td>0.0</td>\n",
       "      <td>0.0</td>\n",
       "      <td>0.0</td>\n",
       "      <td>0.0</td>\n",
       "      <td>1.0</td>\n",
       "      <td>0.0</td>\n",
       "      <td>0.0</td>\n",
       "      <td>1.0</td>\n",
       "    </tr>\n",
       "    <tr>\n",
       "      <th>4</th>\n",
       "      <td>1</td>\n",
       "      <td>3</td>\n",
       "      <td>22.0</td>\n",
       "      <td>1</td>\n",
       "      <td>1</td>\n",
       "      <td>12.2875</td>\n",
       "      <td>1.0</td>\n",
       "      <td>0.0</td>\n",
       "      <td>0.0</td>\n",
       "      <td>0.0</td>\n",
       "      <td>0.0</td>\n",
       "      <td>0.0</td>\n",
       "      <td>0.0</td>\n",
       "      <td>0.0</td>\n",
       "      <td>0.0</td>\n",
       "      <td>1.0</td>\n",
       "      <td>0.0</td>\n",
       "      <td>0.0</td>\n",
       "      <td>1.0</td>\n",
       "    </tr>\n",
       "  </tbody>\n",
       "</table>\n",
       "</div>"
      ],
      "text/plain": [
       "   Survived  Pclass   Age  SibSp  Parch     Fare  female  male  Cabin A  \\\n",
       "0         0       3  34.5      0      0   7.8292     0.0   1.0      0.0   \n",
       "1         1       3  47.0      1      0   7.0000     1.0   0.0      0.0   \n",
       "2         0       2  62.0      0      0   9.6875     0.0   1.0      0.0   \n",
       "3         0       3  27.0      0      0   8.6625     0.0   1.0      0.0   \n",
       "4         1       3  22.0      1      1  12.2875     1.0   0.0      0.0   \n",
       "\n",
       "   Cabin B  Cabin C  Cabin D  Cabin E  Cabin F  Cabin G  Cabin U    C    Q  \\\n",
       "0      0.0      0.0      0.0      0.0      0.0      0.0      1.0  0.0  1.0   \n",
       "1      0.0      0.0      0.0      0.0      0.0      0.0      1.0  0.0  0.0   \n",
       "2      0.0      0.0      0.0      0.0      0.0      0.0      1.0  0.0  1.0   \n",
       "3      0.0      0.0      0.0      0.0      0.0      0.0      1.0  0.0  0.0   \n",
       "4      0.0      0.0      0.0      0.0      0.0      0.0      1.0  0.0  0.0   \n",
       "\n",
       "     S  \n",
       "0  0.0  \n",
       "1  1.0  \n",
       "2  0.0  \n",
       "3  1.0  \n",
       "4  1.0  "
      ]
     },
     "execution_count": 78,
     "metadata": {},
     "output_type": "execute_result"
    }
   ],
   "source": [
    "embar_encoder =OneHotEncoder(sparse=False)\n",
    "# para la categoria Sexo (male/female)\n",
    "embar_cat_1hot = embar_encoder.fit_transform(cat_embar)\n",
    "\n",
    "# Ahora sustituiremos la columna Sexo , por las de OneHotEncoder\n",
    "titanic_norm.reset_index(drop=False, inplace=True)\n",
    "titanic_norm=titanic_norm.join(pd.DataFrame(embar_cat_1hot, columns=[cat for cat in embar_encoder.categories_[0]]))\n",
    "# Borraremos la columna categorizada, así como el index que se añadió al realizar el join \n",
    "titanic_norm=titanic_norm.drop([\"Embarked\",\"index\"], axis=1)\n",
    "# Mostramos el resultado\n",
    "titanic_norm.info()\n",
    "titanic_norm.head()"
   ]
  },
  {
   "cell_type": "code",
   "execution_count": 79,
   "metadata": {},
   "outputs": [
    {
     "data": {
      "text/html": [
       "<div>\n",
       "<style scoped>\n",
       "    .dataframe tbody tr th:only-of-type {\n",
       "        vertical-align: middle;\n",
       "    }\n",
       "\n",
       "    .dataframe tbody tr th {\n",
       "        vertical-align: top;\n",
       "    }\n",
       "\n",
       "    .dataframe thead th {\n",
       "        text-align: right;\n",
       "    }\n",
       "</style>\n",
       "<table border=\"1\" class=\"dataframe\">\n",
       "  <thead>\n",
       "    <tr style=\"text-align: right;\">\n",
       "      <th></th>\n",
       "      <th>Survived</th>\n",
       "      <th>Pclass</th>\n",
       "      <th>Age</th>\n",
       "      <th>SibSp</th>\n",
       "      <th>Parch</th>\n",
       "      <th>Fare</th>\n",
       "      <th>female</th>\n",
       "      <th>male</th>\n",
       "      <th>Cabin A</th>\n",
       "      <th>Cabin B</th>\n",
       "      <th>Cabin C</th>\n",
       "      <th>Cabin D</th>\n",
       "      <th>Cabin E</th>\n",
       "      <th>Cabin F</th>\n",
       "      <th>Cabin G</th>\n",
       "      <th>Cabin U</th>\n",
       "      <th>Embarked C</th>\n",
       "      <th>Embarked Q</th>\n",
       "      <th>Embarked S</th>\n",
       "    </tr>\n",
       "  </thead>\n",
       "  <tbody>\n",
       "    <tr>\n",
       "      <th>0</th>\n",
       "      <td>0</td>\n",
       "      <td>3</td>\n",
       "      <td>34.5</td>\n",
       "      <td>0</td>\n",
       "      <td>0</td>\n",
       "      <td>7.8292</td>\n",
       "      <td>0.0</td>\n",
       "      <td>1.0</td>\n",
       "      <td>0.0</td>\n",
       "      <td>0.0</td>\n",
       "      <td>0.0</td>\n",
       "      <td>0.0</td>\n",
       "      <td>0.0</td>\n",
       "      <td>0.0</td>\n",
       "      <td>0.0</td>\n",
       "      <td>1.0</td>\n",
       "      <td>0.0</td>\n",
       "      <td>1.0</td>\n",
       "      <td>0.0</td>\n",
       "    </tr>\n",
       "    <tr>\n",
       "      <th>1</th>\n",
       "      <td>1</td>\n",
       "      <td>3</td>\n",
       "      <td>47.0</td>\n",
       "      <td>1</td>\n",
       "      <td>0</td>\n",
       "      <td>7.0000</td>\n",
       "      <td>1.0</td>\n",
       "      <td>0.0</td>\n",
       "      <td>0.0</td>\n",
       "      <td>0.0</td>\n",
       "      <td>0.0</td>\n",
       "      <td>0.0</td>\n",
       "      <td>0.0</td>\n",
       "      <td>0.0</td>\n",
       "      <td>0.0</td>\n",
       "      <td>1.0</td>\n",
       "      <td>0.0</td>\n",
       "      <td>0.0</td>\n",
       "      <td>1.0</td>\n",
       "    </tr>\n",
       "    <tr>\n",
       "      <th>2</th>\n",
       "      <td>0</td>\n",
       "      <td>2</td>\n",
       "      <td>62.0</td>\n",
       "      <td>0</td>\n",
       "      <td>0</td>\n",
       "      <td>9.6875</td>\n",
       "      <td>0.0</td>\n",
       "      <td>1.0</td>\n",
       "      <td>0.0</td>\n",
       "      <td>0.0</td>\n",
       "      <td>0.0</td>\n",
       "      <td>0.0</td>\n",
       "      <td>0.0</td>\n",
       "      <td>0.0</td>\n",
       "      <td>0.0</td>\n",
       "      <td>1.0</td>\n",
       "      <td>0.0</td>\n",
       "      <td>1.0</td>\n",
       "      <td>0.0</td>\n",
       "    </tr>\n",
       "    <tr>\n",
       "      <th>3</th>\n",
       "      <td>0</td>\n",
       "      <td>3</td>\n",
       "      <td>27.0</td>\n",
       "      <td>0</td>\n",
       "      <td>0</td>\n",
       "      <td>8.6625</td>\n",
       "      <td>0.0</td>\n",
       "      <td>1.0</td>\n",
       "      <td>0.0</td>\n",
       "      <td>0.0</td>\n",
       "      <td>0.0</td>\n",
       "      <td>0.0</td>\n",
       "      <td>0.0</td>\n",
       "      <td>0.0</td>\n",
       "      <td>0.0</td>\n",
       "      <td>1.0</td>\n",
       "      <td>0.0</td>\n",
       "      <td>0.0</td>\n",
       "      <td>1.0</td>\n",
       "    </tr>\n",
       "    <tr>\n",
       "      <th>4</th>\n",
       "      <td>1</td>\n",
       "      <td>3</td>\n",
       "      <td>22.0</td>\n",
       "      <td>1</td>\n",
       "      <td>1</td>\n",
       "      <td>12.2875</td>\n",
       "      <td>1.0</td>\n",
       "      <td>0.0</td>\n",
       "      <td>0.0</td>\n",
       "      <td>0.0</td>\n",
       "      <td>0.0</td>\n",
       "      <td>0.0</td>\n",
       "      <td>0.0</td>\n",
       "      <td>0.0</td>\n",
       "      <td>0.0</td>\n",
       "      <td>1.0</td>\n",
       "      <td>0.0</td>\n",
       "      <td>0.0</td>\n",
       "      <td>1.0</td>\n",
       "    </tr>\n",
       "  </tbody>\n",
       "</table>\n",
       "</div>"
      ],
      "text/plain": [
       "   Survived  Pclass   Age  SibSp  Parch     Fare  female  male  Cabin A  \\\n",
       "0         0       3  34.5      0      0   7.8292     0.0   1.0      0.0   \n",
       "1         1       3  47.0      1      0   7.0000     1.0   0.0      0.0   \n",
       "2         0       2  62.0      0      0   9.6875     0.0   1.0      0.0   \n",
       "3         0       3  27.0      0      0   8.6625     0.0   1.0      0.0   \n",
       "4         1       3  22.0      1      1  12.2875     1.0   0.0      0.0   \n",
       "\n",
       "   Cabin B  Cabin C  Cabin D  Cabin E  Cabin F  Cabin G  Cabin U  Embarked C  \\\n",
       "0      0.0      0.0      0.0      0.0      0.0      0.0      1.0         0.0   \n",
       "1      0.0      0.0      0.0      0.0      0.0      0.0      1.0         0.0   \n",
       "2      0.0      0.0      0.0      0.0      0.0      0.0      1.0         0.0   \n",
       "3      0.0      0.0      0.0      0.0      0.0      0.0      1.0         0.0   \n",
       "4      0.0      0.0      0.0      0.0      0.0      0.0      1.0         0.0   \n",
       "\n",
       "   Embarked Q  Embarked S  \n",
       "0         1.0         0.0  \n",
       "1         0.0         1.0  \n",
       "2         1.0         0.0  \n",
       "3         0.0         1.0  \n",
       "4         0.0         1.0  "
      ]
     },
     "execution_count": 79,
     "metadata": {},
     "output_type": "execute_result"
    }
   ],
   "source": [
    "# Cambiamos el nombre d elas columnas para entenderlo mejor\n",
    "titanic_norm=titanic_norm.rename(columns={\"C\":\"Embarked C\"});\n",
    "titanic_norm=titanic_norm.rename(columns={\"Q\":\"Embarked Q\"});\n",
    "titanic_norm=titanic_norm.rename(columns={\"S\":\"Embarked S\"});\n",
    "\n",
    "# Revisamos cambios \n",
    "titanic_norm.head()"
   ]
  },
  {
   "attachments": {},
   "cell_type": "markdown",
   "metadata": {},
   "source": [
    "### Pclass"
   ]
  },
  {
   "cell_type": "code",
   "execution_count": 80,
   "metadata": {},
   "outputs": [
    {
     "name": "stdout",
     "output_type": "stream",
     "text": [
      "<class 'pandas.core.frame.DataFrame'>\n",
      "RangeIndex: 418 entries, 0 to 417\n",
      "Data columns (total 21 columns):\n",
      " #   Column      Non-Null Count  Dtype  \n",
      "---  ------      --------------  -----  \n",
      " 0   Survived    418 non-null    int64  \n",
      " 1   Age         418 non-null    float64\n",
      " 2   SibSp       418 non-null    int64  \n",
      " 3   Parch       418 non-null    int64  \n",
      " 4   Fare        418 non-null    float64\n",
      " 5   female      418 non-null    float64\n",
      " 6   male        418 non-null    float64\n",
      " 7   Cabin A     418 non-null    float64\n",
      " 8   Cabin B     418 non-null    float64\n",
      " 9   Cabin C     418 non-null    float64\n",
      " 10  Cabin D     418 non-null    float64\n",
      " 11  Cabin E     418 non-null    float64\n",
      " 12  Cabin F     418 non-null    float64\n",
      " 13  Cabin G     418 non-null    float64\n",
      " 14  Cabin U     418 non-null    float64\n",
      " 15  Embarked C  418 non-null    float64\n",
      " 16  Embarked Q  418 non-null    float64\n",
      " 17  Embarked S  418 non-null    float64\n",
      " 18  1           418 non-null    float64\n",
      " 19  2           418 non-null    float64\n",
      " 20  3           418 non-null    float64\n",
      "dtypes: float64(18), int64(3)\n",
      "memory usage: 68.7 KB\n"
     ]
    },
    {
     "data": {
      "text/html": [
       "<div>\n",
       "<style scoped>\n",
       "    .dataframe tbody tr th:only-of-type {\n",
       "        vertical-align: middle;\n",
       "    }\n",
       "\n",
       "    .dataframe tbody tr th {\n",
       "        vertical-align: top;\n",
       "    }\n",
       "\n",
       "    .dataframe thead th {\n",
       "        text-align: right;\n",
       "    }\n",
       "</style>\n",
       "<table border=\"1\" class=\"dataframe\">\n",
       "  <thead>\n",
       "    <tr style=\"text-align: right;\">\n",
       "      <th></th>\n",
       "      <th>Survived</th>\n",
       "      <th>Age</th>\n",
       "      <th>SibSp</th>\n",
       "      <th>Parch</th>\n",
       "      <th>Fare</th>\n",
       "      <th>female</th>\n",
       "      <th>male</th>\n",
       "      <th>Cabin A</th>\n",
       "      <th>Cabin B</th>\n",
       "      <th>Cabin C</th>\n",
       "      <th>...</th>\n",
       "      <th>Cabin E</th>\n",
       "      <th>Cabin F</th>\n",
       "      <th>Cabin G</th>\n",
       "      <th>Cabin U</th>\n",
       "      <th>Embarked C</th>\n",
       "      <th>Embarked Q</th>\n",
       "      <th>Embarked S</th>\n",
       "      <th>1</th>\n",
       "      <th>2</th>\n",
       "      <th>3</th>\n",
       "    </tr>\n",
       "  </thead>\n",
       "  <tbody>\n",
       "    <tr>\n",
       "      <th>0</th>\n",
       "      <td>0</td>\n",
       "      <td>34.5</td>\n",
       "      <td>0</td>\n",
       "      <td>0</td>\n",
       "      <td>7.8292</td>\n",
       "      <td>0.0</td>\n",
       "      <td>1.0</td>\n",
       "      <td>0.0</td>\n",
       "      <td>0.0</td>\n",
       "      <td>0.0</td>\n",
       "      <td>...</td>\n",
       "      <td>0.0</td>\n",
       "      <td>0.0</td>\n",
       "      <td>0.0</td>\n",
       "      <td>1.0</td>\n",
       "      <td>0.0</td>\n",
       "      <td>1.0</td>\n",
       "      <td>0.0</td>\n",
       "      <td>0.0</td>\n",
       "      <td>0.0</td>\n",
       "      <td>1.0</td>\n",
       "    </tr>\n",
       "    <tr>\n",
       "      <th>1</th>\n",
       "      <td>1</td>\n",
       "      <td>47.0</td>\n",
       "      <td>1</td>\n",
       "      <td>0</td>\n",
       "      <td>7.0000</td>\n",
       "      <td>1.0</td>\n",
       "      <td>0.0</td>\n",
       "      <td>0.0</td>\n",
       "      <td>0.0</td>\n",
       "      <td>0.0</td>\n",
       "      <td>...</td>\n",
       "      <td>0.0</td>\n",
       "      <td>0.0</td>\n",
       "      <td>0.0</td>\n",
       "      <td>1.0</td>\n",
       "      <td>0.0</td>\n",
       "      <td>0.0</td>\n",
       "      <td>1.0</td>\n",
       "      <td>0.0</td>\n",
       "      <td>0.0</td>\n",
       "      <td>1.0</td>\n",
       "    </tr>\n",
       "    <tr>\n",
       "      <th>2</th>\n",
       "      <td>0</td>\n",
       "      <td>62.0</td>\n",
       "      <td>0</td>\n",
       "      <td>0</td>\n",
       "      <td>9.6875</td>\n",
       "      <td>0.0</td>\n",
       "      <td>1.0</td>\n",
       "      <td>0.0</td>\n",
       "      <td>0.0</td>\n",
       "      <td>0.0</td>\n",
       "      <td>...</td>\n",
       "      <td>0.0</td>\n",
       "      <td>0.0</td>\n",
       "      <td>0.0</td>\n",
       "      <td>1.0</td>\n",
       "      <td>0.0</td>\n",
       "      <td>1.0</td>\n",
       "      <td>0.0</td>\n",
       "      <td>0.0</td>\n",
       "      <td>1.0</td>\n",
       "      <td>0.0</td>\n",
       "    </tr>\n",
       "    <tr>\n",
       "      <th>3</th>\n",
       "      <td>0</td>\n",
       "      <td>27.0</td>\n",
       "      <td>0</td>\n",
       "      <td>0</td>\n",
       "      <td>8.6625</td>\n",
       "      <td>0.0</td>\n",
       "      <td>1.0</td>\n",
       "      <td>0.0</td>\n",
       "      <td>0.0</td>\n",
       "      <td>0.0</td>\n",
       "      <td>...</td>\n",
       "      <td>0.0</td>\n",
       "      <td>0.0</td>\n",
       "      <td>0.0</td>\n",
       "      <td>1.0</td>\n",
       "      <td>0.0</td>\n",
       "      <td>0.0</td>\n",
       "      <td>1.0</td>\n",
       "      <td>0.0</td>\n",
       "      <td>0.0</td>\n",
       "      <td>1.0</td>\n",
       "    </tr>\n",
       "    <tr>\n",
       "      <th>4</th>\n",
       "      <td>1</td>\n",
       "      <td>22.0</td>\n",
       "      <td>1</td>\n",
       "      <td>1</td>\n",
       "      <td>12.2875</td>\n",
       "      <td>1.0</td>\n",
       "      <td>0.0</td>\n",
       "      <td>0.0</td>\n",
       "      <td>0.0</td>\n",
       "      <td>0.0</td>\n",
       "      <td>...</td>\n",
       "      <td>0.0</td>\n",
       "      <td>0.0</td>\n",
       "      <td>0.0</td>\n",
       "      <td>1.0</td>\n",
       "      <td>0.0</td>\n",
       "      <td>0.0</td>\n",
       "      <td>1.0</td>\n",
       "      <td>0.0</td>\n",
       "      <td>0.0</td>\n",
       "      <td>1.0</td>\n",
       "    </tr>\n",
       "  </tbody>\n",
       "</table>\n",
       "<p>5 rows × 21 columns</p>\n",
       "</div>"
      ],
      "text/plain": [
       "   Survived   Age  SibSp  Parch     Fare  female  male  Cabin A  Cabin B  \\\n",
       "0         0  34.5      0      0   7.8292     0.0   1.0      0.0      0.0   \n",
       "1         1  47.0      1      0   7.0000     1.0   0.0      0.0      0.0   \n",
       "2         0  62.0      0      0   9.6875     0.0   1.0      0.0      0.0   \n",
       "3         0  27.0      0      0   8.6625     0.0   1.0      0.0      0.0   \n",
       "4         1  22.0      1      1  12.2875     1.0   0.0      0.0      0.0   \n",
       "\n",
       "   Cabin C  ...  Cabin E  Cabin F  Cabin G  Cabin U  Embarked C  Embarked Q  \\\n",
       "0      0.0  ...      0.0      0.0      0.0      1.0         0.0         1.0   \n",
       "1      0.0  ...      0.0      0.0      0.0      1.0         0.0         0.0   \n",
       "2      0.0  ...      0.0      0.0      0.0      1.0         0.0         1.0   \n",
       "3      0.0  ...      0.0      0.0      0.0      1.0         0.0         0.0   \n",
       "4      0.0  ...      0.0      0.0      0.0      1.0         0.0         0.0   \n",
       "\n",
       "   Embarked S    1    2    3  \n",
       "0         0.0  0.0  0.0  1.0  \n",
       "1         1.0  0.0  0.0  1.0  \n",
       "2         0.0  0.0  1.0  0.0  \n",
       "3         1.0  0.0  0.0  1.0  \n",
       "4         1.0  0.0  0.0  1.0  \n",
       "\n",
       "[5 rows x 21 columns]"
      ]
     },
     "execution_count": 80,
     "metadata": {},
     "output_type": "execute_result"
    }
   ],
   "source": [
    "pclass_encoder =OneHotEncoder(sparse=False)\n",
    "# para la categoria Sexo (male/female)\n",
    "pclass_cat_1hot = pclass_encoder.fit_transform(cat_pclass)\n",
    "\n",
    "# Ahora sustituiremos la columna Sexo , por las de OneHotEncoder\n",
    "titanic_norm.reset_index(drop=False, inplace=True)\n",
    "titanic_norm=titanic_norm.join(pd.DataFrame(pclass_cat_1hot, columns=[cat for cat in pclass_encoder.categories_[0]]))\n",
    "# Borraremos la columna categorizada, así como el index que se añadió al realizar el join \n",
    "titanic_norm=titanic_norm.drop([\"Pclass\",\"index\"], axis=1)\n",
    "# Mostramos el resultado\n",
    "titanic_norm.info()\n",
    "titanic_norm.head()"
   ]
  },
  {
   "cell_type": "code",
   "execution_count": 81,
   "metadata": {},
   "outputs": [
    {
     "data": {
      "text/html": [
       "<div>\n",
       "<style scoped>\n",
       "    .dataframe tbody tr th:only-of-type {\n",
       "        vertical-align: middle;\n",
       "    }\n",
       "\n",
       "    .dataframe tbody tr th {\n",
       "        vertical-align: top;\n",
       "    }\n",
       "\n",
       "    .dataframe thead th {\n",
       "        text-align: right;\n",
       "    }\n",
       "</style>\n",
       "<table border=\"1\" class=\"dataframe\">\n",
       "  <thead>\n",
       "    <tr style=\"text-align: right;\">\n",
       "      <th></th>\n",
       "      <th>Survived</th>\n",
       "      <th>Age</th>\n",
       "      <th>SibSp</th>\n",
       "      <th>Parch</th>\n",
       "      <th>Fare</th>\n",
       "      <th>female</th>\n",
       "      <th>male</th>\n",
       "      <th>Cabin A</th>\n",
       "      <th>Cabin B</th>\n",
       "      <th>Cabin C</th>\n",
       "      <th>...</th>\n",
       "      <th>Cabin E</th>\n",
       "      <th>Cabin F</th>\n",
       "      <th>Cabin G</th>\n",
       "      <th>Cabin U</th>\n",
       "      <th>Embarked C</th>\n",
       "      <th>Embarked Q</th>\n",
       "      <th>Embarked S</th>\n",
       "      <th>FirstClass</th>\n",
       "      <th>SecondClass</th>\n",
       "      <th>ThirdClass</th>\n",
       "    </tr>\n",
       "  </thead>\n",
       "  <tbody>\n",
       "    <tr>\n",
       "      <th>0</th>\n",
       "      <td>0</td>\n",
       "      <td>34.5</td>\n",
       "      <td>0</td>\n",
       "      <td>0</td>\n",
       "      <td>7.8292</td>\n",
       "      <td>0.0</td>\n",
       "      <td>1.0</td>\n",
       "      <td>0.0</td>\n",
       "      <td>0.0</td>\n",
       "      <td>0.0</td>\n",
       "      <td>...</td>\n",
       "      <td>0.0</td>\n",
       "      <td>0.0</td>\n",
       "      <td>0.0</td>\n",
       "      <td>1.0</td>\n",
       "      <td>0.0</td>\n",
       "      <td>1.0</td>\n",
       "      <td>0.0</td>\n",
       "      <td>0.0</td>\n",
       "      <td>0.0</td>\n",
       "      <td>1.0</td>\n",
       "    </tr>\n",
       "    <tr>\n",
       "      <th>1</th>\n",
       "      <td>1</td>\n",
       "      <td>47.0</td>\n",
       "      <td>1</td>\n",
       "      <td>0</td>\n",
       "      <td>7.0000</td>\n",
       "      <td>1.0</td>\n",
       "      <td>0.0</td>\n",
       "      <td>0.0</td>\n",
       "      <td>0.0</td>\n",
       "      <td>0.0</td>\n",
       "      <td>...</td>\n",
       "      <td>0.0</td>\n",
       "      <td>0.0</td>\n",
       "      <td>0.0</td>\n",
       "      <td>1.0</td>\n",
       "      <td>0.0</td>\n",
       "      <td>0.0</td>\n",
       "      <td>1.0</td>\n",
       "      <td>0.0</td>\n",
       "      <td>0.0</td>\n",
       "      <td>1.0</td>\n",
       "    </tr>\n",
       "    <tr>\n",
       "      <th>2</th>\n",
       "      <td>0</td>\n",
       "      <td>62.0</td>\n",
       "      <td>0</td>\n",
       "      <td>0</td>\n",
       "      <td>9.6875</td>\n",
       "      <td>0.0</td>\n",
       "      <td>1.0</td>\n",
       "      <td>0.0</td>\n",
       "      <td>0.0</td>\n",
       "      <td>0.0</td>\n",
       "      <td>...</td>\n",
       "      <td>0.0</td>\n",
       "      <td>0.0</td>\n",
       "      <td>0.0</td>\n",
       "      <td>1.0</td>\n",
       "      <td>0.0</td>\n",
       "      <td>1.0</td>\n",
       "      <td>0.0</td>\n",
       "      <td>0.0</td>\n",
       "      <td>1.0</td>\n",
       "      <td>0.0</td>\n",
       "    </tr>\n",
       "    <tr>\n",
       "      <th>3</th>\n",
       "      <td>0</td>\n",
       "      <td>27.0</td>\n",
       "      <td>0</td>\n",
       "      <td>0</td>\n",
       "      <td>8.6625</td>\n",
       "      <td>0.0</td>\n",
       "      <td>1.0</td>\n",
       "      <td>0.0</td>\n",
       "      <td>0.0</td>\n",
       "      <td>0.0</td>\n",
       "      <td>...</td>\n",
       "      <td>0.0</td>\n",
       "      <td>0.0</td>\n",
       "      <td>0.0</td>\n",
       "      <td>1.0</td>\n",
       "      <td>0.0</td>\n",
       "      <td>0.0</td>\n",
       "      <td>1.0</td>\n",
       "      <td>0.0</td>\n",
       "      <td>0.0</td>\n",
       "      <td>1.0</td>\n",
       "    </tr>\n",
       "    <tr>\n",
       "      <th>4</th>\n",
       "      <td>1</td>\n",
       "      <td>22.0</td>\n",
       "      <td>1</td>\n",
       "      <td>1</td>\n",
       "      <td>12.2875</td>\n",
       "      <td>1.0</td>\n",
       "      <td>0.0</td>\n",
       "      <td>0.0</td>\n",
       "      <td>0.0</td>\n",
       "      <td>0.0</td>\n",
       "      <td>...</td>\n",
       "      <td>0.0</td>\n",
       "      <td>0.0</td>\n",
       "      <td>0.0</td>\n",
       "      <td>1.0</td>\n",
       "      <td>0.0</td>\n",
       "      <td>0.0</td>\n",
       "      <td>1.0</td>\n",
       "      <td>0.0</td>\n",
       "      <td>0.0</td>\n",
       "      <td>1.0</td>\n",
       "    </tr>\n",
       "  </tbody>\n",
       "</table>\n",
       "<p>5 rows × 21 columns</p>\n",
       "</div>"
      ],
      "text/plain": [
       "   Survived   Age  SibSp  Parch     Fare  female  male  Cabin A  Cabin B  \\\n",
       "0         0  34.5      0      0   7.8292     0.0   1.0      0.0      0.0   \n",
       "1         1  47.0      1      0   7.0000     1.0   0.0      0.0      0.0   \n",
       "2         0  62.0      0      0   9.6875     0.0   1.0      0.0      0.0   \n",
       "3         0  27.0      0      0   8.6625     0.0   1.0      0.0      0.0   \n",
       "4         1  22.0      1      1  12.2875     1.0   0.0      0.0      0.0   \n",
       "\n",
       "   Cabin C  ...  Cabin E  Cabin F  Cabin G  Cabin U  Embarked C  Embarked Q  \\\n",
       "0      0.0  ...      0.0      0.0      0.0      1.0         0.0         1.0   \n",
       "1      0.0  ...      0.0      0.0      0.0      1.0         0.0         0.0   \n",
       "2      0.0  ...      0.0      0.0      0.0      1.0         0.0         1.0   \n",
       "3      0.0  ...      0.0      0.0      0.0      1.0         0.0         0.0   \n",
       "4      0.0  ...      0.0      0.0      0.0      1.0         0.0         0.0   \n",
       "\n",
       "   Embarked S  FirstClass  SecondClass  ThirdClass  \n",
       "0         0.0         0.0          0.0         1.0  \n",
       "1         1.0         0.0          0.0         1.0  \n",
       "2         0.0         0.0          1.0         0.0  \n",
       "3         1.0         0.0          0.0         1.0  \n",
       "4         1.0         0.0          0.0         1.0  \n",
       "\n",
       "[5 rows x 21 columns]"
      ]
     },
     "execution_count": 81,
     "metadata": {},
     "output_type": "execute_result"
    }
   ],
   "source": [
    "# Cambiamos el nombre d elas columnas para entenderlo mejor\n",
    "titanic_norm=titanic_norm.rename(columns={1:\"FirstClass\"});\n",
    "titanic_norm=titanic_norm.rename(columns={2:\"SecondClass\"});\n",
    "titanic_norm=titanic_norm.rename(columns={3:\"ThirdClass\"});\n",
    "\n",
    "# Revisamos cambios \n",
    "titanic_norm.head()"
   ]
  },
  {
   "attachments": {},
   "cell_type": "markdown",
   "metadata": {},
   "source": [
    "---\n",
    "---\n",
    "---"
   ]
  },
  {
   "cell_type": "markdown",
   "metadata": {},
   "source": [
    "## Estudio numérico de la correlación entre los datos para obtener información relevante\n",
    "---"
   ]
  },
  {
   "attachments": {},
   "cell_type": "markdown",
   "metadata": {},
   "source": [
    "### Revisión de los histogramas de las columnas\n",
    "---"
   ]
  },
  {
   "cell_type": "markdown",
   "metadata": {},
   "source": [
    "Realizamos una visualización de los histogramas de los datos, que representan el número de veces que un valor aparece, representando la distribución de los casos por categoría para tener una idea de su cantidad, dispersión ,etc..."
   ]
  },
  {
   "cell_type": "code",
   "execution_count": 225,
   "metadata": {},
   "outputs": [
    {
     "data": {
      "image/png": "[encoded data removed]",
      "text/plain": [
       "<Figure size 1500x1500 with 25 Axes>"
      ]
     },
     "metadata": {},
     "output_type": "display_data"
    }
   ],
   "source": [
    "titanic_norm.hist(bins=50, figsize =(15,15))\n",
    "plt.show()"
   ]
  },
  {
   "cell_type": "markdown",
   "metadata": {},
   "source": [
    "Los histogramas tienen un buen comportamiento con valores discretas, pero no tanto con las categóricas binarias/booleanas, que apenas nos arrojan datos, a parte de su distribución por categorías"
   ]
  },
  {
   "cell_type": "markdown",
   "metadata": {},
   "source": [
    "De todas formas, podemos ver que:\n",
    "- Edad : Hay una gran concentración de muestras en edades de 18 a 20 años\n",
    "- BMI(Índice de Masa Corporal) : Tiene una dispersión normal (Campana de Gauss)\n",
    "- Hijos : Existen más concentración de muestras cuantos menos hijos, siendo \"0\" la mayor de ellas\n",
    "- Cargos : Hay una gran concentración de muestras en las más bajas hasta 15.000\n",
    "- Sexo : Igual número (aproximado) de hombre y mujeres\n",
    "- Fumadores : Mucha más concentración de NO fumadores ( casi tres veces más )\n",
    "- Región : Aproximadamente numero igual de muestras en cada region"
   ]
  },
  {
   "attachments": {},
   "cell_type": "markdown",
   "metadata": {},
   "source": [
    "# Buscando correlaciones"
   ]
  },
  {
   "cell_type": "markdown",
   "metadata": {},
   "source": [
    "Aquí nos damos cuenta de la necesidad de la normalización del modelo para que las correlaciones puedan ser medidas"
   ]
  },
  {
   "cell_type": "code",
   "execution_count": 229,
   "metadata": {},
   "outputs": [
    {
     "data": {
      "text/plain": [
       "Survived       1.000000\n",
       "female         1.000000\n",
       "Fare           0.189258\n",
       "Parch          0.159120\n",
       "FirstClass     0.126389\n",
       "Embarked Q     0.115574\n",
       "Cabin C        0.112625\n",
       "SibSp          0.099943\n",
       "Cabin G        0.064781\n",
       "Cabin B        0.060134\n",
       "Embarked C     0.033684\n",
       "Cabin E        0.024919\n",
       "Cabin A        0.017617\n",
       "Cabin D        0.007813\n",
       "Cabin F        0.003300\n",
       "Age            0.000662\n",
       "SecondClass   -0.045655\n",
       "ThirdClass    -0.072405\n",
       "Embarked S    -0.105883\n",
       "Cabin U       -0.131464\n",
       "male          -1.000000\n",
       "Name: Survived, dtype: float64"
      ]
     },
     "execution_count": 229,
     "metadata": {},
     "output_type": "execute_result"
    }
   ],
   "source": [
    "corr_matrix = titanic_norm.corr()\n",
    "corr_matrix[\"Survived\"].sort_values(ascending=False)"
   ]
  },
  {
   "cell_type": "code",
   "execution_count": 230,
   "metadata": {},
   "outputs": [
    {
     "data": {
      "text/html": [
       "<div>\n",
       "<style scoped>\n",
       "    .dataframe tbody tr th:only-of-type {\n",
       "        vertical-align: middle;\n",
       "    }\n",
       "\n",
       "    .dataframe tbody tr th {\n",
       "        vertical-align: top;\n",
       "    }\n",
       "\n",
       "    .dataframe thead th {\n",
       "        text-align: right;\n",
       "    }\n",
       "</style>\n",
       "<table border=\"1\" class=\"dataframe\">\n",
       "  <thead>\n",
       "    <tr style=\"text-align: right;\">\n",
       "      <th></th>\n",
       "      <th>Survived</th>\n",
       "      <th>Age</th>\n",
       "      <th>SibSp</th>\n",
       "      <th>Parch</th>\n",
       "      <th>Fare</th>\n",
       "      <th>female</th>\n",
       "      <th>male</th>\n",
       "      <th>Cabin A</th>\n",
       "      <th>Cabin B</th>\n",
       "      <th>Cabin C</th>\n",
       "      <th>...</th>\n",
       "      <th>Cabin E</th>\n",
       "      <th>Cabin F</th>\n",
       "      <th>Cabin G</th>\n",
       "      <th>Cabin U</th>\n",
       "      <th>Embarked C</th>\n",
       "      <th>Embarked Q</th>\n",
       "      <th>Embarked S</th>\n",
       "      <th>FirstClass</th>\n",
       "      <th>SecondClass</th>\n",
       "      <th>ThirdClass</th>\n",
       "    </tr>\n",
       "  </thead>\n",
       "  <tbody>\n",
       "    <tr>\n",
       "      <th>Survived</th>\n",
       "      <td>1.000000</td>\n",
       "      <td>0.000662</td>\n",
       "      <td>0.099943</td>\n",
       "      <td>0.159120</td>\n",
       "      <td>0.189258</td>\n",
       "      <td>1.000000</td>\n",
       "      <td>-1.000000</td>\n",
       "      <td>0.017617</td>\n",
       "      <td>0.060134</td>\n",
       "      <td>0.112625</td>\n",
       "      <td>...</td>\n",
       "      <td>0.024919</td>\n",
       "      <td>0.003300</td>\n",
       "      <td>0.064781</td>\n",
       "      <td>-0.131464</td>\n",
       "      <td>0.033684</td>\n",
       "      <td>0.115574</td>\n",
       "      <td>-0.105883</td>\n",
       "      <td>0.126389</td>\n",
       "      <td>-0.045655</td>\n",
       "      <td>-0.072405</td>\n",
       "    </tr>\n",
       "    <tr>\n",
       "      <th>Age</th>\n",
       "      <td>0.000662</td>\n",
       "      <td>1.000000</td>\n",
       "      <td>-0.078870</td>\n",
       "      <td>-0.044980</td>\n",
       "      <td>0.331003</td>\n",
       "      <td>0.000662</td>\n",
       "      <td>-0.000662</td>\n",
       "      <td>0.132197</td>\n",
       "      <td>0.169123</td>\n",
       "      <td>0.275761</td>\n",
       "      <td>...</td>\n",
       "      <td>0.082349</td>\n",
       "      <td>-0.065350</td>\n",
       "      <td>-0.113372</td>\n",
       "      <td>-0.360502</td>\n",
       "      <td>0.161724</td>\n",
       "      <td>-0.015119</td>\n",
       "      <td>-0.135353</td>\n",
       "      <td>0.454726</td>\n",
       "      <td>-0.058211</td>\n",
       "      <td>-0.348797</td>\n",
       "    </tr>\n",
       "    <tr>\n",
       "      <th>SibSp</th>\n",
       "      <td>0.099943</td>\n",
       "      <td>-0.078870</td>\n",
       "      <td>1.000000</td>\n",
       "      <td>0.306895</td>\n",
       "      <td>0.170128</td>\n",
       "      <td>0.099943</td>\n",
       "      <td>-0.099943</td>\n",
       "      <td>-0.023554</td>\n",
       "      <td>0.051938</td>\n",
       "      <td>0.099729</td>\n",
       "      <td>...</td>\n",
       "      <td>-0.000484</td>\n",
       "      <td>-0.030780</td>\n",
       "      <td>0.030214</td>\n",
       "      <td>-0.073067</td>\n",
       "      <td>-0.016365</td>\n",
       "      <td>-0.098824</td>\n",
       "      <td>0.079367</td>\n",
       "      <td>0.019166</td>\n",
       "      <td>-0.042418</td>\n",
       "      <td>0.018573</td>\n",
       "    </tr>\n",
       "    <tr>\n",
       "      <th>Parch</th>\n",
       "      <td>0.159120</td>\n",
       "      <td>-0.044980</td>\n",
       "      <td>0.306895</td>\n",
       "      <td>1.000000</td>\n",
       "      <td>0.229003</td>\n",
       "      <td>0.159120</td>\n",
       "      <td>-0.159120</td>\n",
       "      <td>-0.014196</td>\n",
       "      <td>0.107455</td>\n",
       "      <td>-0.024072</td>\n",
       "      <td>...</td>\n",
       "      <td>0.041513</td>\n",
       "      <td>0.015341</td>\n",
       "      <td>0.030356</td>\n",
       "      <td>-0.037237</td>\n",
       "      <td>-0.005791</td>\n",
       "      <td>-0.132948</td>\n",
       "      <td>0.092201</td>\n",
       "      <td>-0.005485</td>\n",
       "      <td>-0.026335</td>\n",
       "      <td>0.026719</td>\n",
       "    </tr>\n",
       "    <tr>\n",
       "      <th>Fare</th>\n",
       "      <td>0.189258</td>\n",
       "      <td>0.331003</td>\n",
       "      <td>0.170128</td>\n",
       "      <td>0.229003</td>\n",
       "      <td>1.000000</td>\n",
       "      <td>0.189258</td>\n",
       "      <td>-0.189258</td>\n",
       "      <td>0.020890</td>\n",
       "      <td>0.425431</td>\n",
       "      <td>0.462438</td>\n",
       "      <td>...</td>\n",
       "      <td>0.130783</td>\n",
       "      <td>-0.046935</td>\n",
       "      <td>-0.016785</td>\n",
       "      <td>-0.563299</td>\n",
       "      <td>0.310609</td>\n",
       "      <td>-0.156767</td>\n",
       "      <td>-0.176375</td>\n",
       "      <td>0.622663</td>\n",
       "      <td>-0.130525</td>\n",
       "      <td>-0.435303</td>\n",
       "    </tr>\n",
       "    <tr>\n",
       "      <th>female</th>\n",
       "      <td>1.000000</td>\n",
       "      <td>0.000662</td>\n",
       "      <td>0.099943</td>\n",
       "      <td>0.159120</td>\n",
       "      <td>0.189258</td>\n",
       "      <td>1.000000</td>\n",
       "      <td>-1.000000</td>\n",
       "      <td>0.017617</td>\n",
       "      <td>0.060134</td>\n",
       "      <td>0.112625</td>\n",
       "      <td>...</td>\n",
       "      <td>0.024919</td>\n",
       "      <td>0.003300</td>\n",
       "      <td>0.064781</td>\n",
       "      <td>-0.131464</td>\n",
       "      <td>0.033684</td>\n",
       "      <td>0.115574</td>\n",
       "      <td>-0.105883</td>\n",
       "      <td>0.126389</td>\n",
       "      <td>-0.045655</td>\n",
       "      <td>-0.072405</td>\n",
       "    </tr>\n",
       "    <tr>\n",
       "      <th>male</th>\n",
       "      <td>-1.000000</td>\n",
       "      <td>-0.000662</td>\n",
       "      <td>-0.099943</td>\n",
       "      <td>-0.159120</td>\n",
       "      <td>-0.189258</td>\n",
       "      <td>-1.000000</td>\n",
       "      <td>1.000000</td>\n",
       "      <td>-0.017617</td>\n",
       "      <td>-0.060134</td>\n",
       "      <td>-0.112625</td>\n",
       "      <td>...</td>\n",
       "      <td>-0.024919</td>\n",
       "      <td>-0.003300</td>\n",
       "      <td>-0.064781</td>\n",
       "      <td>0.131464</td>\n",
       "      <td>-0.033684</td>\n",
       "      <td>-0.115574</td>\n",
       "      <td>0.105883</td>\n",
       "      <td>-0.126389</td>\n",
       "      <td>0.045655</td>\n",
       "      <td>0.072405</td>\n",
       "    </tr>\n",
       "    <tr>\n",
       "      <th>Cabin A</th>\n",
       "      <td>0.017617</td>\n",
       "      <td>0.132197</td>\n",
       "      <td>-0.023554</td>\n",
       "      <td>-0.014196</td>\n",
       "      <td>0.020890</td>\n",
       "      <td>0.017617</td>\n",
       "      <td>-0.017617</td>\n",
       "      <td>1.000000</td>\n",
       "      <td>-0.027684</td>\n",
       "      <td>-0.039451</td>\n",
       "      <td>...</td>\n",
       "      <td>-0.019359</td>\n",
       "      <td>-0.018230</td>\n",
       "      <td>-0.006391</td>\n",
       "      <td>-0.247390</td>\n",
       "      <td>0.099484</td>\n",
       "      <td>-0.045892</td>\n",
       "      <td>-0.059316</td>\n",
       "      <td>0.222493</td>\n",
       "      <td>-0.069812</td>\n",
       "      <td>-0.136252</td>\n",
       "    </tr>\n",
       "    <tr>\n",
       "      <th>Cabin B</th>\n",
       "      <td>0.060134</td>\n",
       "      <td>0.169123</td>\n",
       "      <td>0.051938</td>\n",
       "      <td>0.107455</td>\n",
       "      <td>0.425431</td>\n",
       "      <td>0.060134</td>\n",
       "      <td>-0.060134</td>\n",
       "      <td>-0.027684</td>\n",
       "      <td>1.000000</td>\n",
       "      <td>-0.064127</td>\n",
       "      <td>...</td>\n",
       "      <td>-0.031468</td>\n",
       "      <td>-0.029632</td>\n",
       "      <td>-0.010388</td>\n",
       "      <td>-0.402123</td>\n",
       "      <td>0.153868</td>\n",
       "      <td>-0.074596</td>\n",
       "      <td>-0.089376</td>\n",
       "      <td>0.361655</td>\n",
       "      <td>-0.113477</td>\n",
       "      <td>-0.221472</td>\n",
       "    </tr>\n",
       "    <tr>\n",
       "      <th>Cabin C</th>\n",
       "      <td>0.112625</td>\n",
       "      <td>0.275761</td>\n",
       "      <td>0.099729</td>\n",
       "      <td>-0.024072</td>\n",
       "      <td>0.462438</td>\n",
       "      <td>0.112625</td>\n",
       "      <td>-0.112625</td>\n",
       "      <td>-0.039451</td>\n",
       "      <td>-0.064127</td>\n",
       "      <td>1.000000</td>\n",
       "      <td>...</td>\n",
       "      <td>-0.044843</td>\n",
       "      <td>-0.042227</td>\n",
       "      <td>-0.014804</td>\n",
       "      <td>-0.573044</td>\n",
       "      <td>0.230440</td>\n",
       "      <td>-0.078703</td>\n",
       "      <td>-0.155459</td>\n",
       "      <td>0.515375</td>\n",
       "      <td>-0.161709</td>\n",
       "      <td>-0.315608</td>\n",
       "    </tr>\n",
       "    <tr>\n",
       "      <th>Cabin D</th>\n",
       "      <td>0.007813</td>\n",
       "      <td>0.136164</td>\n",
       "      <td>-0.012552</td>\n",
       "      <td>-0.043590</td>\n",
       "      <td>0.020751</td>\n",
       "      <td>0.007813</td>\n",
       "      <td>-0.007813</td>\n",
       "      <td>-0.023381</td>\n",
       "      <td>-0.038006</td>\n",
       "      <td>-0.054160</td>\n",
       "      <td>...</td>\n",
       "      <td>-0.026577</td>\n",
       "      <td>-0.025026</td>\n",
       "      <td>-0.008774</td>\n",
       "      <td>-0.339623</td>\n",
       "      <td>0.122822</td>\n",
       "      <td>-0.063002</td>\n",
       "      <td>-0.069081</td>\n",
       "      <td>0.242286</td>\n",
       "      <td>-0.029568</td>\n",
       "      <td>-0.187050</td>\n",
       "    </tr>\n",
       "    <tr>\n",
       "      <th>Cabin E</th>\n",
       "      <td>0.024919</td>\n",
       "      <td>0.082349</td>\n",
       "      <td>-0.000484</td>\n",
       "      <td>0.041513</td>\n",
       "      <td>0.130783</td>\n",
       "      <td>0.024919</td>\n",
       "      <td>-0.024919</td>\n",
       "      <td>-0.019359</td>\n",
       "      <td>-0.031468</td>\n",
       "      <td>-0.044843</td>\n",
       "      <td>...</td>\n",
       "      <td>1.000000</td>\n",
       "      <td>-0.020721</td>\n",
       "      <td>-0.007264</td>\n",
       "      <td>-0.281198</td>\n",
       "      <td>0.145972</td>\n",
       "      <td>-0.052164</td>\n",
       "      <td>-0.096964</td>\n",
       "      <td>0.252899</td>\n",
       "      <td>-0.079352</td>\n",
       "      <td>-0.154872</td>\n",
       "    </tr>\n",
       "    <tr>\n",
       "      <th>Cabin F</th>\n",
       "      <td>0.003300</td>\n",
       "      <td>-0.065350</td>\n",
       "      <td>-0.030780</td>\n",
       "      <td>0.015341</td>\n",
       "      <td>-0.046935</td>\n",
       "      <td>0.003300</td>\n",
       "      <td>-0.003300</td>\n",
       "      <td>-0.018230</td>\n",
       "      <td>-0.029632</td>\n",
       "      <td>-0.042227</td>\n",
       "      <td>...</td>\n",
       "      <td>-0.020721</td>\n",
       "      <td>1.000000</td>\n",
       "      <td>-0.006840</td>\n",
       "      <td>-0.264793</td>\n",
       "      <td>0.001945</td>\n",
       "      <td>-0.049120</td>\n",
       "      <td>0.030397</td>\n",
       "      <td>-0.081934</td>\n",
       "      <td>0.135184</td>\n",
       "      <td>-0.040975</td>\n",
       "    </tr>\n",
       "    <tr>\n",
       "      <th>Cabin G</th>\n",
       "      <td>0.064781</td>\n",
       "      <td>-0.113372</td>\n",
       "      <td>0.030214</td>\n",
       "      <td>0.030356</td>\n",
       "      <td>-0.016785</td>\n",
       "      <td>0.064781</td>\n",
       "      <td>-0.064781</td>\n",
       "      <td>-0.006391</td>\n",
       "      <td>-0.010388</td>\n",
       "      <td>-0.014804</td>\n",
       "      <td>...</td>\n",
       "      <td>-0.007264</td>\n",
       "      <td>-0.006840</td>\n",
       "      <td>1.000000</td>\n",
       "      <td>-0.092829</td>\n",
       "      <td>-0.027822</td>\n",
       "      <td>-0.017220</td>\n",
       "      <td>0.036256</td>\n",
       "      <td>-0.028724</td>\n",
       "      <td>-0.026196</td>\n",
       "      <td>0.046905</td>\n",
       "    </tr>\n",
       "    <tr>\n",
       "      <th>Cabin U</th>\n",
       "      <td>-0.131464</td>\n",
       "      <td>-0.360502</td>\n",
       "      <td>-0.073067</td>\n",
       "      <td>-0.037237</td>\n",
       "      <td>-0.563299</td>\n",
       "      <td>-0.131464</td>\n",
       "      <td>0.131464</td>\n",
       "      <td>-0.247390</td>\n",
       "      <td>-0.402123</td>\n",
       "      <td>-0.573044</td>\n",
       "      <td>...</td>\n",
       "      <td>-0.281198</td>\n",
       "      <td>-0.264793</td>\n",
       "      <td>-0.092829</td>\n",
       "      <td>1.000000</td>\n",
       "      <td>-0.361643</td>\n",
       "      <td>0.166981</td>\n",
       "      <td>0.215525</td>\n",
       "      <td>-0.753246</td>\n",
       "      <td>0.184628</td>\n",
       "      <td>0.504338</td>\n",
       "    </tr>\n",
       "    <tr>\n",
       "      <th>Embarked C</th>\n",
       "      <td>0.033684</td>\n",
       "      <td>0.161724</td>\n",
       "      <td>-0.016365</td>\n",
       "      <td>-0.005791</td>\n",
       "      <td>0.310609</td>\n",
       "      <td>0.033684</td>\n",
       "      <td>-0.033684</td>\n",
       "      <td>0.099484</td>\n",
       "      <td>0.153868</td>\n",
       "      <td>0.230440</td>\n",
       "      <td>...</td>\n",
       "      <td>0.145972</td>\n",
       "      <td>0.001945</td>\n",
       "      <td>-0.027822</td>\n",
       "      <td>-0.361643</td>\n",
       "      <td>1.000000</td>\n",
       "      <td>-0.199786</td>\n",
       "      <td>-0.767375</td>\n",
       "      <td>0.381492</td>\n",
       "      <td>-0.156605</td>\n",
       "      <td>-0.202894</td>\n",
       "    </tr>\n",
       "    <tr>\n",
       "      <th>Embarked Q</th>\n",
       "      <td>0.115574</td>\n",
       "      <td>-0.015119</td>\n",
       "      <td>-0.098824</td>\n",
       "      <td>-0.132948</td>\n",
       "      <td>-0.156767</td>\n",
       "      <td>0.115574</td>\n",
       "      <td>-0.115574</td>\n",
       "      <td>-0.045892</td>\n",
       "      <td>-0.074596</td>\n",
       "      <td>-0.078703</td>\n",
       "      <td>...</td>\n",
       "      <td>-0.052164</td>\n",
       "      <td>-0.049120</td>\n",
       "      <td>-0.017220</td>\n",
       "      <td>0.166981</td>\n",
       "      <td>-0.199786</td>\n",
       "      <td>1.000000</td>\n",
       "      <td>-0.474962</td>\n",
       "      <td>-0.188745</td>\n",
       "      <td>-0.114588</td>\n",
       "      <td>0.260301</td>\n",
       "    </tr>\n",
       "    <tr>\n",
       "      <th>Embarked S</th>\n",
       "      <td>-0.105883</td>\n",
       "      <td>-0.135353</td>\n",
       "      <td>0.079367</td>\n",
       "      <td>0.092201</td>\n",
       "      <td>-0.176375</td>\n",
       "      <td>-0.105883</td>\n",
       "      <td>0.105883</td>\n",
       "      <td>-0.059316</td>\n",
       "      <td>-0.089376</td>\n",
       "      <td>-0.155459</td>\n",
       "      <td>...</td>\n",
       "      <td>-0.096964</td>\n",
       "      <td>0.030397</td>\n",
       "      <td>0.036256</td>\n",
       "      <td>0.215525</td>\n",
       "      <td>-0.767375</td>\n",
       "      <td>-0.474962</td>\n",
       "      <td>1.000000</td>\n",
       "      <td>-0.219110</td>\n",
       "      <td>0.215634</td>\n",
       "      <td>0.011883</td>\n",
       "    </tr>\n",
       "    <tr>\n",
       "      <th>FirstClass</th>\n",
       "      <td>0.126389</td>\n",
       "      <td>0.454726</td>\n",
       "      <td>0.019166</td>\n",
       "      <td>-0.005485</td>\n",
       "      <td>0.622663</td>\n",
       "      <td>0.126389</td>\n",
       "      <td>-0.126389</td>\n",
       "      <td>0.222493</td>\n",
       "      <td>0.361655</td>\n",
       "      <td>0.515375</td>\n",
       "      <td>...</td>\n",
       "      <td>0.252899</td>\n",
       "      <td>-0.081934</td>\n",
       "      <td>-0.028724</td>\n",
       "      <td>-0.753246</td>\n",
       "      <td>0.381492</td>\n",
       "      <td>-0.188745</td>\n",
       "      <td>-0.219110</td>\n",
       "      <td>1.000000</td>\n",
       "      <td>-0.313770</td>\n",
       "      <td>-0.612386</td>\n",
       "    </tr>\n",
       "    <tr>\n",
       "      <th>SecondClass</th>\n",
       "      <td>-0.045655</td>\n",
       "      <td>-0.058211</td>\n",
       "      <td>-0.042418</td>\n",
       "      <td>-0.026335</td>\n",
       "      <td>-0.130525</td>\n",
       "      <td>-0.045655</td>\n",
       "      <td>0.045655</td>\n",
       "      <td>-0.069812</td>\n",
       "      <td>-0.113477</td>\n",
       "      <td>-0.161709</td>\n",
       "      <td>...</td>\n",
       "      <td>-0.079352</td>\n",
       "      <td>0.135184</td>\n",
       "      <td>-0.026196</td>\n",
       "      <td>0.184628</td>\n",
       "      <td>-0.156605</td>\n",
       "      <td>-0.114588</td>\n",
       "      <td>0.215634</td>\n",
       "      <td>-0.313770</td>\n",
       "      <td>1.000000</td>\n",
       "      <td>-0.558487</td>\n",
       "    </tr>\n",
       "    <tr>\n",
       "      <th>ThirdClass</th>\n",
       "      <td>-0.072405</td>\n",
       "      <td>-0.348797</td>\n",
       "      <td>0.018573</td>\n",
       "      <td>0.026719</td>\n",
       "      <td>-0.435303</td>\n",
       "      <td>-0.072405</td>\n",
       "      <td>0.072405</td>\n",
       "      <td>-0.136252</td>\n",
       "      <td>-0.221472</td>\n",
       "      <td>-0.315608</td>\n",
       "      <td>...</td>\n",
       "      <td>-0.154872</td>\n",
       "      <td>-0.040975</td>\n",
       "      <td>0.046905</td>\n",
       "      <td>0.504338</td>\n",
       "      <td>-0.202894</td>\n",
       "      <td>0.260301</td>\n",
       "      <td>0.011883</td>\n",
       "      <td>-0.612386</td>\n",
       "      <td>-0.558487</td>\n",
       "      <td>1.000000</td>\n",
       "    </tr>\n",
       "  </tbody>\n",
       "</table>\n",
       "<p>21 rows × 21 columns</p>\n",
       "</div>"
      ],
      "text/plain": [
       "             Survived       Age     SibSp     Parch      Fare    female  \\\n",
       "Survived     1.000000  0.000662  0.099943  0.159120  0.189258  1.000000   \n",
       "Age          0.000662  1.000000 -0.078870 -0.044980  0.331003  0.000662   \n",
       "SibSp        0.099943 -0.078870  1.000000  0.306895  0.170128  0.099943   \n",
       "Parch        0.159120 -0.044980  0.306895  1.000000  0.229003  0.159120   \n",
       "Fare         0.189258  0.331003  0.170128  0.229003  1.000000  0.189258   \n",
       "female       1.000000  0.000662  0.099943  0.159120  0.189258  1.000000   \n",
       "male        -1.000000 -0.000662 -0.099943 -0.159120 -0.189258 -1.000000   \n",
       "Cabin A      0.017617  0.132197 -0.023554 -0.014196  0.020890  0.017617   \n",
       "Cabin B      0.060134  0.169123  0.051938  0.107455  0.425431  0.060134   \n",
       "Cabin C      0.112625  0.275761  0.099729 -0.024072  0.462438  0.112625   \n",
       "Cabin D      0.007813  0.136164 -0.012552 -0.043590  0.020751  0.007813   \n",
       "Cabin E      0.024919  0.082349 -0.000484  0.041513  0.130783  0.024919   \n",
       "Cabin F      0.003300 -0.065350 -0.030780  0.015341 -0.046935  0.003300   \n",
       "Cabin G      0.064781 -0.113372  0.030214  0.030356 -0.016785  0.064781   \n",
       "Cabin U     -0.131464 -0.360502 -0.073067 -0.037237 -0.563299 -0.131464   \n",
       "Embarked C   0.033684  0.161724 -0.016365 -0.005791  0.310609  0.033684   \n",
       "Embarked Q   0.115574 -0.015119 -0.098824 -0.132948 -0.156767  0.115574   \n",
       "Embarked S  -0.105883 -0.135353  0.079367  0.092201 -0.176375 -0.105883   \n",
       "FirstClass   0.126389  0.454726  0.019166 -0.005485  0.622663  0.126389   \n",
       "SecondClass -0.045655 -0.058211 -0.042418 -0.026335 -0.130525 -0.045655   \n",
       "ThirdClass  -0.072405 -0.348797  0.018573  0.026719 -0.435303 -0.072405   \n",
       "\n",
       "                 male   Cabin A   Cabin B   Cabin C  ...   Cabin E   Cabin F  \\\n",
       "Survived    -1.000000  0.017617  0.060134  0.112625  ...  0.024919  0.003300   \n",
       "Age         -0.000662  0.132197  0.169123  0.275761  ...  0.082349 -0.065350   \n",
       "SibSp       -0.099943 -0.023554  0.051938  0.099729  ... -0.000484 -0.030780   \n",
       "Parch       -0.159120 -0.014196  0.107455 -0.024072  ...  0.041513  0.015341   \n",
       "Fare        -0.189258  0.020890  0.425431  0.462438  ...  0.130783 -0.046935   \n",
       "female      -1.000000  0.017617  0.060134  0.112625  ...  0.024919  0.003300   \n",
       "male         1.000000 -0.017617 -0.060134 -0.112625  ... -0.024919 -0.003300   \n",
       "Cabin A     -0.017617  1.000000 -0.027684 -0.039451  ... -0.019359 -0.018230   \n",
       "Cabin B     -0.060134 -0.027684  1.000000 -0.064127  ... -0.031468 -0.029632   \n",
       "Cabin C     -0.112625 -0.039451 -0.064127  1.000000  ... -0.044843 -0.042227   \n",
       "Cabin D     -0.007813 -0.023381 -0.038006 -0.054160  ... -0.026577 -0.025026   \n",
       "Cabin E     -0.024919 -0.019359 -0.031468 -0.044843  ...  1.000000 -0.020721   \n",
       "Cabin F     -0.003300 -0.018230 -0.029632 -0.042227  ... -0.020721  1.000000   \n",
       "Cabin G     -0.064781 -0.006391 -0.010388 -0.014804  ... -0.007264 -0.006840   \n",
       "Cabin U      0.131464 -0.247390 -0.402123 -0.573044  ... -0.281198 -0.264793   \n",
       "Embarked C  -0.033684  0.099484  0.153868  0.230440  ...  0.145972  0.001945   \n",
       "Embarked Q  -0.115574 -0.045892 -0.074596 -0.078703  ... -0.052164 -0.049120   \n",
       "Embarked S   0.105883 -0.059316 -0.089376 -0.155459  ... -0.096964  0.030397   \n",
       "FirstClass  -0.126389  0.222493  0.361655  0.515375  ...  0.252899 -0.081934   \n",
       "SecondClass  0.045655 -0.069812 -0.113477 -0.161709  ... -0.079352  0.135184   \n",
       "ThirdClass   0.072405 -0.136252 -0.221472 -0.315608  ... -0.154872 -0.040975   \n",
       "\n",
       "              Cabin G   Cabin U  Embarked C  Embarked Q  Embarked S  \\\n",
       "Survived     0.064781 -0.131464    0.033684    0.115574   -0.105883   \n",
       "Age         -0.113372 -0.360502    0.161724   -0.015119   -0.135353   \n",
       "SibSp        0.030214 -0.073067   -0.016365   -0.098824    0.079367   \n",
       "Parch        0.030356 -0.037237   -0.005791   -0.132948    0.092201   \n",
       "Fare        -0.016785 -0.563299    0.310609   -0.156767   -0.176375   \n",
       "female       0.064781 -0.131464    0.033684    0.115574   -0.105883   \n",
       "male        -0.064781  0.131464   -0.033684   -0.115574    0.105883   \n",
       "Cabin A     -0.006391 -0.247390    0.099484   -0.045892   -0.059316   \n",
       "Cabin B     -0.010388 -0.402123    0.153868   -0.074596   -0.089376   \n",
       "Cabin C     -0.014804 -0.573044    0.230440   -0.078703   -0.155459   \n",
       "Cabin D     -0.008774 -0.339623    0.122822   -0.063002   -0.069081   \n",
       "Cabin E     -0.007264 -0.281198    0.145972   -0.052164   -0.096964   \n",
       "Cabin F     -0.006840 -0.264793    0.001945   -0.049120    0.030397   \n",
       "Cabin G      1.000000 -0.092829   -0.027822   -0.017220    0.036256   \n",
       "Cabin U     -0.092829  1.000000   -0.361643    0.166981    0.215525   \n",
       "Embarked C  -0.027822 -0.361643    1.000000   -0.199786   -0.767375   \n",
       "Embarked Q  -0.017220  0.166981   -0.199786    1.000000   -0.474962   \n",
       "Embarked S   0.036256  0.215525   -0.767375   -0.474962    1.000000   \n",
       "FirstClass  -0.028724 -0.753246    0.381492   -0.188745   -0.219110   \n",
       "SecondClass -0.026196  0.184628   -0.156605   -0.114588    0.215634   \n",
       "ThirdClass   0.046905  0.504338   -0.202894    0.260301    0.011883   \n",
       "\n",
       "             FirstClass  SecondClass  ThirdClass  \n",
       "Survived       0.126389    -0.045655   -0.072405  \n",
       "Age            0.454726    -0.058211   -0.348797  \n",
       "SibSp          0.019166    -0.042418    0.018573  \n",
       "Parch         -0.005485    -0.026335    0.026719  \n",
       "Fare           0.622663    -0.130525   -0.435303  \n",
       "female         0.126389    -0.045655   -0.072405  \n",
       "male          -0.126389     0.045655    0.072405  \n",
       "Cabin A        0.222493    -0.069812   -0.136252  \n",
       "Cabin B        0.361655    -0.113477   -0.221472  \n",
       "Cabin C        0.515375    -0.161709   -0.315608  \n",
       "Cabin D        0.242286    -0.029568   -0.187050  \n",
       "Cabin E        0.252899    -0.079352   -0.154872  \n",
       "Cabin F       -0.081934     0.135184   -0.040975  \n",
       "Cabin G       -0.028724    -0.026196    0.046905  \n",
       "Cabin U       -0.753246     0.184628    0.504338  \n",
       "Embarked C     0.381492    -0.156605   -0.202894  \n",
       "Embarked Q    -0.188745    -0.114588    0.260301  \n",
       "Embarked S    -0.219110     0.215634    0.011883  \n",
       "FirstClass     1.000000    -0.313770   -0.612386  \n",
       "SecondClass   -0.313770     1.000000   -0.558487  \n",
       "ThirdClass    -0.612386    -0.558487    1.000000  \n",
       "\n",
       "[21 rows x 21 columns]"
      ]
     },
     "execution_count": 230,
     "metadata": {},
     "output_type": "execute_result"
    }
   ],
   "source": [
    "corr_matrix"
   ]
  },
  {
   "cell_type": "code",
   "execution_count": 231,
   "metadata": {},
   "outputs": [
    {
     "data": {
      "text/plain": [
       "<AxesSubplot:>"
      ]
     },
     "execution_count": 231,
     "metadata": {},
     "output_type": "execute_result"
    },
    {
     "data": {
      "image/png": "[encoded data removed]",
      "text/plain": [
       "<Figure size 800x500 with 2 Axes>"
      ]
     },
     "metadata": {},
     "output_type": "display_data"
    }
   ],
   "source": [
    "plt.rcParams['font.size'] =14\n",
    "corr = titanic.corr()\n",
    "sns.heatmap(corr, cmap = 'Wistia', annot= True)"
   ]
  },
  {
   "cell_type": "code",
   "execution_count": 84,
   "metadata": {},
   "outputs": [
    {
     "data": {
      "image/png": "[encoded data removed]",
      "text/plain": [
       "<Figure size 800x500 with 2 Axes>"
      ]
     },
     "metadata": {},
     "output_type": "display_data"
    }
   ],
   "source": [
    "corr_norm = titanic_norm.corr()\n",
    "\n",
    "# Reduciremos el tamaño de fuente para este gráfico (y lo volveremos a dejar como estaba) por el tamaño de celdas\n",
    "# tamaño del texto en las etiquetas por defecto\n",
    "mpl.rc('axes',  labelsize=10)\n",
    "mpl.rc('xtick', labelsize=10)\n",
    "mpl.rc('ytick', labelsize=10)\n",
    "plt.rcParams['font.size'] =5\n",
    "\n",
    "sns.heatmap(corr_norm, cmap = 'Wistia', annot= True)\n",
    "\n",
    "# Volvemos a dejar el tamaño de letras por defecto\n",
    "mpl.rc('axes',  labelsize=15)\n",
    "mpl.rc('xtick', labelsize=15)\n",
    "mpl.rc('ytick', labelsize=15)\n",
    "plt.rcParams['font.size'] =14"
   ]
  },
  {
   "attachments": {},
   "cell_type": "markdown",
   "metadata": {},
   "source": [
    "## Conclusiones preliminares:\n",
    "- Podemos observar una corelación directa-100% entre Supervivientes y el Sexo.\n",
    "- Según los datos que tenemos: Todas las mujeres sobrevivieron, mientras todos los hombre perecieron"
   ]
  },
  {
   "attachments": {},
   "cell_type": "markdown",
   "metadata": {},
   "source": [
    "- Para las otra categorías de variables, aparecen débiles correlaciones positivas, entre las que podemos detacar:\n",
    "  - 0.10 Pasajeros con un mayor número de herman@s a bordo \n",
    "  - 0.11 Pasajeros de loS camarotes de la cubierta \"C\"\n",
    "  - 0.13 Pasajeros de Primera Clase\n",
    "  - 0.16 Pasajeros con un mayor número de padres e hijos a bordo\n",
    "  - 0.19 Mayor precio pagado por el billete"
   ]
  },
  {
   "attachments": {},
   "cell_type": "markdown",
   "metadata": {},
   "source": [
    "---\n",
    "---\n",
    "---"
   ]
  },
  {
   "cell_type": "markdown",
   "metadata": {},
   "source": []
  }
 ],
 "metadata": {
  "kernelspec": {
   "display_name": "base",
   "language": "python",
   "name": "python3"
  },
  "language_info": {
   "codemirror_mode": {
    "name": "ipython",
    "version": 3
   },
   "file_extension": ".py",
   "mimetype": "text/x-python",
   "name": "python",
   "nbconvert_exporter": "python",
   "pygments_lexer": "ipython3",
   "version": "3.9.13"
  },
  "orig_nbformat": 4,
  "vscode": {
   "interpreter": {
    "hash": "704aea7029d59a45433ae3b663f7cccf597e59967cc6a516676256c90bebdeef"
   }
  }
 },
 "nbformat": 4,
 "nbformat_minor": 2
}
